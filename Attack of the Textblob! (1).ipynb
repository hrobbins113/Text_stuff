{
 "cells": [
  {
   "cell_type": "markdown",
   "metadata": {},
   "source": [
    "### Using Textblob for NLP/Sentiment Analysis "
   ]
  },
  {
   "cell_type": "code",
   "execution_count": 99,
   "metadata": {},
   "outputs": [],
   "source": [
    "import pandas as pd\n",
    "from textblob import TextBlob, Word, Blobber \n",
    "import matplotlib.pyplot as plt\n",
    "% matplotlib inline\n",
    "from nltk.corpus import stopwords"
   ]
  },
  {
   "cell_type": "markdown",
   "metadata": {},
   "source": [
    "TextBlob returns polarity and subjectivity scores for the text is takes in:"
   ]
  },
  {
   "cell_type": "code",
   "execution_count": 100,
   "metadata": {},
   "outputs": [
    {
     "data": {
      "text/plain": [
       "Sentiment(polarity=1.0, subjectivity=1.0)"
      ]
     },
     "execution_count": 100,
     "metadata": {},
     "output_type": "execute_result"
    }
   ],
   "source": [
    "TextBlob(\"Everything is awesome!\").sentiment"
   ]
  },
  {
   "cell_type": "markdown",
   "metadata": {},
   "source": [
    "### **Polarity**: \n",
    "\n",
    "***Polarity***, is the emotion expressed in the sentence - it addresses the tone of the text. It can be positive, negative or neutral.\n",
    "\n",
    "- #polarity (-1 to 1): scores closer to -1 are more negative in tone, closer to 0 are more neutral, and closer to 1 are more positive in tone.\n",
    "\n",
    "### **Subjectivity**:\n",
    "\n",
    "**Subjectivity**: Subjective sentence expresses some personal feelings, views, or beliefs.\n",
    "\n",
    "- #subjectivity (0 to 1): scores closer to 0 are more objective in tone, scores closer to 1 are more subjective in tone\n",
    "\n"
   ]
  },
  {
   "cell_type": "code",
   "execution_count": 101,
   "metadata": {
    "scrolled": true
   },
   "outputs": [
    {
     "data": {
      "text/plain": [
       "0.0"
      ]
     },
     "execution_count": 101,
     "metadata": {},
     "output_type": "execute_result"
    }
   ],
   "source": [
    "TextBlob(\"\").sentiment.polarity\n"
   ]
  },
  {
   "cell_type": "code",
   "execution_count": 102,
   "metadata": {},
   "outputs": [
    {
     "data": {
      "text/plain": [
       "0.0"
      ]
     },
     "execution_count": 102,
     "metadata": {},
     "output_type": "execute_result"
    }
   ],
   "source": [
    "\n",
    "TextBlob(\"\").sentiment.subjectivity\n"
   ]
  },
  {
   "cell_type": "markdown",
   "metadata": {},
   "source": [
    "#### Cool things about sentiment analysis with TextBlob:\n",
    "    - It doesn't care about punctuation\n",
    "    - It doesn't care about capitalization\n",
    "#### Drawback:\n",
    "    - It just ignores words it doesn't understand and gives them a score of 0.0"
   ]
  },
  {
   "cell_type": "code",
   "execution_count": 103,
   "metadata": {},
   "outputs": [
    {
     "data": {
      "text/plain": [
       "Sentiment(polarity=0.0, subjectivity=0.0)"
      ]
     },
     "execution_count": 103,
     "metadata": {},
     "output_type": "execute_result"
    }
   ],
   "source": [
    "TextBlob('bodacious, dude').sentiment"
   ]
  },
  {
   "cell_type": "code",
   "execution_count": null,
   "metadata": {},
   "outputs": [],
   "source": []
  },
  {
   "cell_type": "code",
   "execution_count": null,
   "metadata": {},
   "outputs": [],
   "source": []
  },
  {
   "cell_type": "markdown",
   "metadata": {},
   "source": [
    "#### Other cool things it can do:"
   ]
  },
  {
   "cell_type": "code",
   "execution_count": 104,
   "metadata": {},
   "outputs": [],
   "source": [
    "text = \"An artificial man, who was incompletely constructed and has scissors for hands, leads a solitary life. Then one day, a suburban lady meets him and introduces him to her world. \"\n",
    "##this text was taken from imdb: https://www.imdb.com/title/tt0099487/?ref_=nv_sr_1\n",
    "\n",
    "blob = TextBlob(text)\n"
   ]
  },
  {
   "cell_type": "markdown",
   "metadata": {},
   "source": [
    "#### Tags:\n",
    "\n",
    "TextBlob can also tell us what part of speech each word in a text corresponds to. It can tell us if a word in a sentence is functioning as a noun, an adjective, a verb, etc. In NLP, associating a word with a part of speech is called “tagging.” For a list of what all the different tags mean, check out this website: https://www.clips.uantwerpen.be/pages/mbsp-tags"
   ]
  },
  {
   "cell_type": "code",
   "execution_count": 105,
   "metadata": {
    "scrolled": true
   },
   "outputs": [
    {
     "data": {
      "text/plain": [
       "[('An', 'DT'),\n",
       " ('artificial', 'JJ'),\n",
       " ('man', 'NN'),\n",
       " ('who', 'WP'),\n",
       " ('was', 'VBD'),\n",
       " ('incompletely', 'RB'),\n",
       " ('constructed', 'VBN'),\n",
       " ('and', 'CC'),\n",
       " ('has', 'VBZ'),\n",
       " ('scissors', 'NNS'),\n",
       " ('for', 'IN'),\n",
       " ('hands', 'NNS'),\n",
       " ('leads', 'VBZ'),\n",
       " ('a', 'DT'),\n",
       " ('solitary', 'JJ'),\n",
       " ('life', 'NN'),\n",
       " ('Then', 'RB'),\n",
       " ('one', 'CD'),\n",
       " ('day', 'NN'),\n",
       " ('a', 'DT'),\n",
       " ('suburban', 'JJ'),\n",
       " ('lady', 'NN'),\n",
       " ('meets', 'VBZ'),\n",
       " ('him', 'PRP'),\n",
       " ('and', 'CC'),\n",
       " ('introduces', 'VBZ'),\n",
       " ('him', 'PRP'),\n",
       " ('to', 'TO'),\n",
       " ('her', 'PRP$'),\n",
       " ('world', 'NN')]"
      ]
     },
     "execution_count": 105,
     "metadata": {},
     "output_type": "execute_result"
    }
   ],
   "source": [
    "# Tagging: \n",
    "\n",
    "blob.tags\n",
    "\n",
    "# Examples:\n",
    "# JJ - adjective\n",
    "# NN - noun\n",
    "# RB - adverbs"
   ]
  },
  {
   "cell_type": "markdown",
   "metadata": {},
   "source": [
    "Noun_phrases:"
   ]
  },
  {
   "cell_type": "code",
   "execution_count": 106,
   "metadata": {},
   "outputs": [
    {
     "data": {
      "text/plain": [
       "WordList(['artificial man', 'solitary life', 'suburban lady'])"
      ]
     },
     "execution_count": 106,
     "metadata": {},
     "output_type": "execute_result"
    }
   ],
   "source": [
    "blob.noun_phrases  #combinations of words -  descriptor+ noun"
   ]
  },
  {
   "cell_type": "code",
   "execution_count": null,
   "metadata": {
    "scrolled": true
   },
   "outputs": [],
   "source": []
  },
  {
   "cell_type": "markdown",
   "metadata": {},
   "source": [
    "#### Sentence Parsing: "
   ]
  },
  {
   "cell_type": "code",
   "execution_count": 107,
   "metadata": {},
   "outputs": [
    {
     "data": {
      "text/plain": [
       "[Sentence(\"An artificial man, who was incompletely constructed and has scissors for hands, leads a solitary life.\"),\n",
       " Sentence(\"Then one day, a suburban lady meets him and introduces him to her world.\")]"
      ]
     },
     "execution_count": 107,
     "metadata": {},
     "output_type": "execute_result"
    }
   ],
   "source": [
    "blob.sentences  #will split the text into individual sentences"
   ]
  },
  {
   "cell_type": "code",
   "execution_count": 108,
   "metadata": {
    "scrolled": true
   },
   "outputs": [
    {
     "name": "stdout",
     "output_type": "stream",
     "text": [
      "Sentiment(polarity=-0.6, subjectivity=1.0)\n",
      "Sentiment(polarity=0.0, subjectivity=0.0)\n"
     ]
    }
   ],
   "source": [
    "for sentence in blob.sentences:  #we can then loop through the sentences to get scores\n",
    "    print(sentence.sentiment)\n"
   ]
  },
  {
   "cell_type": "markdown",
   "metadata": {},
   "source": [
    "#### Can remove Stopwords:"
   ]
  },
  {
   "cell_type": "code",
   "execution_count": 109,
   "metadata": {},
   "outputs": [
    {
     "data": {
      "text/plain": [
       "TextBlob(\"An artificial man incompletely constructed scissors hands leads solitary life Then one day suburban lady meets introduces world\")"
      ]
     },
     "execution_count": 109,
     "metadata": {},
     "output_type": "execute_result"
    }
   ],
   "source": [
    "less_words = [word for word in blob.words if word not in stopwords.words('english')]\n",
    "less = ' '.join(less_words)\n",
    "\n",
    "new_blob = TextBlob(less)\n",
    "\n",
    "new_blob\n"
   ]
  },
  {
   "cell_type": "markdown",
   "metadata": {},
   "source": [
    "#### Translation"
   ]
  },
  {
   "cell_type": "code",
   "execution_count": 112,
   "metadata": {},
   "outputs": [
    {
     "data": {
      "text/plain": [
       "TextBlob(\"Un hombre artificial, que fue construido de forma incompleta y tiene tijeras para las manos, lleva una vida solitaria. Entonces, un día, una dama de los suburbios se encuentra con él y lo presenta a su mundo.\")"
      ]
     },
     "execution_count": 112,
     "metadata": {},
     "output_type": "execute_result"
    }
   ],
   "source": [
    "#Can translate the text into other languages:\n",
    "\n",
    "blob.translate(to=\"es\")"
   ]
  },
  {
   "cell_type": "markdown",
   "metadata": {},
   "source": [
    "### Hillary Clinton's Presidential Debate Text"
   ]
  },
  {
   "cell_type": "markdown",
   "metadata": {},
   "source": [
    "### Debate 1 sentiment overall:"
   ]
  },
  {
   "cell_type": "code",
   "execution_count": 117,
   "metadata": {},
   "outputs": [],
   "source": [
    "with open('ClintonPresDebate1.txt', 'r', encoding = \"ISO-8859-1\" ) as myfile:\n",
    "    hillary = myfile.read()"
   ]
  },
  {
   "cell_type": "code",
   "execution_count": 121,
   "metadata": {},
   "outputs": [],
   "source": [
    "text = TextBlob(hillary)"
   ]
  },
  {
   "cell_type": "code",
   "execution_count": 122,
   "metadata": {},
   "outputs": [
    {
     "data": {
      "text/plain": [
       "0.4748706812745692"
      ]
     },
     "execution_count": 122,
     "metadata": {},
     "output_type": "execute_result"
    }
   ],
   "source": [
    "text.sentiment.subjectivity\n",
    "#subjectivity (0 to 1): scores closer to 0 are more objective in tone, scores closer to 1 are more subjective in tone"
   ]
  },
  {
   "cell_type": "code",
   "execution_count": 123,
   "metadata": {},
   "outputs": [
    {
     "data": {
      "text/plain": [
       "0.1679563135448666"
      ]
     },
     "execution_count": 123,
     "metadata": {},
     "output_type": "execute_result"
    }
   ],
   "source": [
    "text.sentiment.polarity \n",
    "#polarity (-1 to 1): scores closer to -1 are more negative in tone, closer to 0 are more neutral, and closer to 1 are more positive in tone."
   ]
  },
  {
   "cell_type": "markdown",
   "metadata": {},
   "source": [
    " In Debate 1:\n",
    "-  Clinton Subjectivity: 0.4748706812745692 (slightly more objective than Trump overall)\n",
    "-  Trump Subjectivity: 0.527053192826821\n",
    "\n",
    "        \n",
    "-  Clinton Polarity: 0.1679563135448666 (slightly more positive in tone overall)\n",
    "-  Trump Polarity:  0.12492547933096725"
   ]
  },
  {
   "cell_type": "code",
   "execution_count": 127,
   "metadata": {},
   "outputs": [
    {
     "data": {
      "text/plain": [
       "WordList(['donald', 'lester', 'hofstra', 'central question', \"granddaughter 's\", 'new jobs', 'good jobs', 'renewable energy', 'small business', 'new jobs', 'small business', 'economy fairer', 'national minimum wage', \"women 's work\", 'support people', 'balance family', 'difficult choices', 'sick days', 'affordable child care', 'debt-free college', 'fair share', 'corporate loopholes', 'donald trump', 'i. donald', 'important issues'])"
      ]
     },
     "execution_count": 127,
     "metadata": {},
     "output_type": "execute_result"
    }
   ],
   "source": [
    "# text.noun_phrases[:25]"
   ]
  },
  {
   "cell_type": "code",
   "execution_count": 130,
   "metadata": {},
   "outputs": [
    {
     "name": "stdout",
     "output_type": "stream",
     "text": [
      "0.0\n",
      "0.2\n",
      "0.27999999999999997\n",
      "0.0\n",
      "0.375\n",
      "0.41818181818181815\n",
      "0.0\n",
      "0.0\n",
      "0.15050505050505047\n",
      "0.0\n",
      "0.0\n",
      "0.5\n",
      "0.5\n",
      "0.5\n",
      "0.0\n",
      "-0.7142857142857143\n",
      "0.5\n",
      "0.0\n",
      "0.39999999999999997\n",
      "0.35\n",
      "0.4\n",
      "0.4\n",
      "0.5\n",
      "0.4\n",
      "-0.125\n",
      "0.45714285714285713\n",
      "0.0\n",
      "0.6\n",
      "0.2916666666666667\n",
      "0.25\n",
      "0.0\n",
      "0.3333333333333333\n",
      "0.0\n",
      "0.0\n",
      "0.52\n",
      "0.425\n",
      "0.0\n",
      "0.0\n",
      "0.0\n",
      "-0.2916666666666667\n",
      "-0.1027777777777778\n",
      "0.3333333333333333\n",
      "0.6\n",
      "0.0\n",
      "-0.3\n",
      "0.24285714285714288\n",
      "0.0\n",
      "0.0\n",
      "0.0\n",
      "0.0\n",
      "0.0\n",
      "0.0\n",
      "0.0\n",
      "0.43333333333333335\n",
      "0.05\n",
      "0.25\n",
      "0.37878787878787873\n",
      "0.3666666666666667\n",
      "0.18333333333333335\n",
      "0.0\n",
      "0.2\n",
      "0.2\n",
      "0.4\n",
      "0.0\n",
      "0.16666666666666669\n",
      "0.18333333333333335\n",
      "0.16818181818181818\n",
      "0.16818181818181818\n",
      "0.041666666666666664\n",
      "0.0\n",
      "-0.05\n",
      "0.475\n",
      "0.13636363636363635\n",
      "0.0\n",
      "0.0\n",
      "0.0\n",
      "0.0\n",
      "0.7\n",
      "0.0\n",
      "0.0\n",
      "0.0\n",
      "0.0\n",
      "0.0\n",
      "0.35714285714285715\n",
      "0.0\n",
      "0.0\n",
      "0.0\n",
      "0.2431818181818182\n",
      "0.0\n",
      "0.0\n",
      "-0.20000000000000004\n",
      "0.0\n",
      "0.0\n",
      "0.36818181818181817\n",
      "0.3\n",
      "0.0\n",
      "0.35\n",
      "0.4\n",
      "0.3181818181818182\n",
      "0.0\n",
      "0.0\n",
      "0.0\n",
      "0.1\n",
      "0.5666666666666667\n",
      "0.0\n",
      "0.2\n",
      "0.0\n",
      "0.0\n",
      "0.6\n",
      "0.0\n",
      "0.0\n",
      "-0.25\n",
      "0.5\n",
      "0.6\n",
      "-0.3\n",
      "0.0\n",
      "0.0\n",
      "0.0\n",
      "0.0\n",
      "0.0\n",
      "0.0\n",
      "0.0\n",
      "0.0\n",
      "0.0\n",
      "0.0\n",
      "0.0\n",
      "0.0\n",
      "0.0\n",
      "0.0\n",
      "0.0\n",
      "-0.175\n",
      "0.5\n",
      "0.35714285714285715\n",
      "0.25\n",
      "0.0\n",
      "0.15\n",
      "0.2\n",
      "0.2\n",
      "0.0\n",
      "0.0\n",
      "0.1\n",
      "0.10000000000000002\n",
      "0.0\n",
      "0.0\n",
      "0.3125\n",
      "0.3\n",
      "-0.0625\n",
      "0.0\n",
      "0.0\n",
      "0.050000000000000044\n",
      "0.0\n",
      "0.0\n",
      "0.0\n",
      "0.0\n",
      "0.0\n",
      "0.0\n",
      "0.05\n",
      "0.0\n",
      "0.0\n",
      "0.0\n",
      "0.0\n",
      "0.0\n",
      "0.0\n",
      "0.0\n",
      "0.0\n",
      "0.02083333333333333\n",
      "-0.1875\n",
      "0.0\n",
      "0.0\n",
      "0.0\n",
      "0.85\n",
      "0.0\n",
      "0.6\n",
      "-0.02857142857142857\n",
      "0.3\n",
      "0.0\n",
      "0.8\n",
      "0.0\n",
      "0.0\n",
      "-0.15555555555555559\n",
      "-0.37499999999999994\n",
      "0.13000000000000003\n",
      "0.2857142857142857\n",
      "0.375\n",
      "0.006060606060606054\n",
      "-0.75\n",
      "0.0\n",
      "0.0\n",
      "0.5\n",
      "0.0\n",
      "0.2857142857142857\n",
      "-0.07500000000000001\n",
      "-0.4\n",
      "0.5\n",
      "0.0\n",
      "0.0\n",
      "0.12\n",
      "0.0\n",
      "0.0\n",
      "0.0\n",
      "0.5\n",
      "0.0\n",
      "-0.24166666666666667\n",
      "0.16666666666666669\n",
      "0.525\n",
      "0.5\n",
      "0.2857142857142857\n",
      "0.0\n",
      "0.0\n",
      "0.0\n",
      "-0.8\n",
      "-0.15555555555555559\n",
      "0.0\n",
      "0.9099999999999999\n",
      "0.0\n",
      "0.225\n",
      "0.11666666666666665\n",
      "-0.4\n",
      "0.0\n",
      "-0.034375\n",
      "0.25\n",
      "0.25\n",
      "0.1\n",
      "0.22727272727272727\n",
      "0.4333333333333333\n",
      "0.22857142857142856\n",
      "0.0\n",
      "0.0\n",
      "0.25\n",
      "-0.1333333333333333\n",
      "0.0\n",
      "0.0\n",
      "0.16875\n",
      "-0.2916666666666667\n",
      "0.25\n",
      "0.26666666666666666\n",
      "0.0\n",
      "0.0\n",
      "-0.2333333333333333\n",
      "0.5\n",
      "0.0\n",
      "0.35\n",
      "0.0\n",
      "0.5681818181818181\n",
      "0.0\n",
      "-0.125\n",
      "0.5\n",
      "0.5\n",
      "0.475\n",
      "0.5\n",
      "0.11818181818181818\n",
      "0.5\n",
      "0.0\n",
      "0.0\n",
      "0.0\n",
      "0.0\n",
      "0.7\n",
      "0.0\n",
      "0.15000000000000002\n",
      "0.43333333333333335\n",
      "0.056666666666666664\n",
      "-0.025\n",
      "0.25\n",
      "0.0\n",
      "0.17500000000000002\n",
      "0.2\n",
      "0.8\n",
      "-0.1\n",
      "0.25333333333333335\n",
      "0.33481481481481473\n",
      "0.03333333333333334\n",
      "0.16666666666666666\n",
      "0.0\n",
      "0.25\n",
      "0.0\n",
      "-0.08333333333333333\n",
      "-0.038461538461538464\n",
      "0.0\n",
      "0.35\n",
      "0.0\n",
      "0.10000000000000002\n",
      "0.3\n",
      "0.0\n",
      "0.0\n",
      "0.15000000000000002\n",
      "-0.35\n",
      "0.0\n",
      "0.0\n",
      "0.2\n",
      "0.0\n",
      "0.0\n",
      "0.0\n",
      "0.3666666666666667\n",
      "0.25\n",
      "0.0\n",
      "-0.1\n",
      "0.35\n",
      "0.03125\n",
      "0.0\n",
      "0.0\n",
      "0.0\n",
      "-0.1\n",
      "-0.04583333333333334\n",
      "0.0\n",
      "0.2\n",
      "0.0\n",
      "0.0\n",
      "0.0\n",
      "0.0\n",
      "0.0\n",
      "0.45\n",
      "0.0\n",
      "0.0\n",
      "0.0\n",
      "0.3575757575757576\n",
      "0.1\n",
      "-0.15555555555555559\n",
      "0.3\n",
      "-0.004166666666666667\n",
      "0.35\n",
      "0.05\n",
      "0.25\n",
      "0.125\n",
      "0.0\n",
      "0.0\n",
      "-0.5\n",
      "0.0\n",
      "0.2875\n",
      "-0.1\n",
      "0.0\n",
      "0.0\n",
      "0.0\n",
      "0.0\n",
      "0.0\n",
      "0.0\n",
      "0.0\n",
      "0.0\n",
      "-0.1\n",
      "0.0\n",
      "-0.07142857142857142\n",
      "0.0\n",
      "0.0\n",
      "-0.125\n",
      "-0.0625\n",
      "0.0\n",
      "-0.35\n",
      "0.2857142857142857\n",
      "-1.0\n",
      "-0.125\n",
      "0.0\n",
      "0.7\n",
      "0.0\n",
      "0.0\n",
      "0.16666666666666666\n",
      "0.1\n",
      "0.7\n",
      "0.0\n",
      "0.0\n",
      "0.0\n",
      "0.2\n",
      "0.0\n",
      "0.35\n",
      "0.5\n",
      "0.0\n",
      "0.35\n",
      "0.13333333333333333\n",
      "-0.125\n",
      "-0.0625\n",
      "0.0\n",
      "0.0\n",
      "0.0\n",
      "0.9750000000000001\n",
      "0.0\n",
      "-0.26666666666666666\n",
      "0.45\n",
      "0.0\n",
      "0.0\n",
      "0.0\n",
      "0.0\n",
      "0.0\n",
      "0.0\n",
      "0.13636363636363635\n",
      "0.0\n",
      "0.0\n",
      "0.0\n",
      "0.35\n",
      "-1.0\n",
      "0.25\n",
      "0.0\n",
      "0.0\n",
      "0.0\n",
      "0.0\n",
      "0.0\n",
      "0.0\n",
      "0.8\n",
      "0.21428571428571427\n",
      "-0.08958333333333335\n",
      "0.26666666666666666\n",
      "0.25\n"
     ]
    }
   ],
   "source": [
    "for sentence in text.sentences:\n",
    "    print(sentence.sentiment.polarity)"
   ]
  },
  {
   "cell_type": "code",
   "execution_count": 132,
   "metadata": {},
   "outputs": [
    {
     "data": {
      "text/plain": [
       "TextBlob(\"-ŻCómo estás, Donald?\n",
       "-Bueno, gracias, Lester, y gracias a Hofstra por hospedarnos. La pregunta central en esta elección es realmente qué tipo de país queremos ser y qué tipo de futuro construiremos juntos. Hoy es el segundo cumpleaños de mi nieta, así que pienso mucho en esto. Primero, tenemos que construir una economía que funcione para todos, no solo para los que están arriba. Eso significa que necesitamos nuevos empleos, buenos empleos, con ingresos crecientes.\n",
       "-Quiero que invirtamos en ti. Quiero que invirtamos en tu futuro. Eso significa trabajos en infraestructura, manufactura avanzada, innovación y tecnología, energía limpia, renovable y pequeñas empresas, porque la mayoría de los nuevos trabajos provendrán de pequeñas empresas. También tenemos que hacer que la economía sea más justa. Esto comienza con el aumento del salario mínimo nacional y también garantiza, finalmente, un salario igual para el trabajo de las mujeres.\n",
       "-También quiero ver a más compañías que compartan ganancias. Si ayudas a crear las ganancias, deberías poder compartirlas, no solo los ejecutivos en la parte superior.\n",
       "Y quiero que hagamos más para apoyar a las personas que luchan por equilibrar la familia y el trabajo. He escuchado de muchos de ustedes acerca de las decisiones difíciles que enfrentan y las tensiones a las que se enfrentan. Así que vamos a tener vacaciones pagadas, días de enfermedad. Asegurémonos de tener una guardería asequible y una universidad libre de deudas. ¿Como vamos a hacerlo? Vamos a hacerlo al hacer que los ricos paguen su parte justa y cerrar las lagunas corporativas. Finalmente, esta noche estamos juntos en el escenario, Donald Trump y yo. Donald, es bueno estar contigo. Vamos a tener un debate en el que estamos hablando de los problemas importantes que enfrenta nuestro país. Usted tiene que juzgarnos, quienes pueden asumir las inmensas y asombrosas responsabilidades de la presidencia, quienes pueden poner en práctica los planes que mejorarán su vida. Espero poder ganar su voto el 8 de noviembre.\n",
       "-Bueno, creo que el comercio es un tema importante. Por supuesto, somos el 5 por ciento de la población mundial; Tenemos que comerciar con el otro 95 por ciento. Y necesitamos tener acuerdos inteligentes, de comercio justo.\n",
       "Sin embargo, también necesitamos un sistema de impuestos que recompense el trabajo y no solo las transacciones financieras. Y el tipo de plan que Donald ha presentado sería la economía de goteo una vez más. De hecho, sería la versión más extrema, los mayores recortes de impuestos para el mayor porcentaje de personas en este país que nunca hemos tenido. Yo lo llamo goteo, porque eso es exactamente lo que sería. No es así como crecemos la economía. Simplemente tenemos una opinión diferente acerca de qué es lo mejor para el crecimiento de la economía, cómo hacemos inversiones que realmente generarán empleos e ingresos en aumento. Creo que lo hacemos desde perspectivas algo diferentes. Entiendo que. Sabes, Donald fue muy afortunado en su vida, y eso es todo para su beneficio. Comenzó su negocio con $ 14 millones, prestados de su padre, y realmente cree que cuanto más ayude a los ricos, mejor estaremos y todo saldrá bien de allí. Yo no compro eso. Tengo una experiencia diferente. Mi padre era un pequeño empresario. Trabajó muy duro. Imprimió telas de cortinas en mesas largas, donde sacó esas telas, bajó con una serigrafía, vertió la pintura, tomó la escobilla de goma y siguió adelante. Y lo que creo es que cuanto más podamos hacer por la clase media, más podemos invertir en usted, su educación, sus habilidades, su futuro, mejor nos iremos y mejor creceremos. Ese es el tipo de economía que quiero que veamos de nuevo.\n",
       "-Bueno, detengámonos por un segundo y recordemos dónde estábamos hace ocho años. Tuvimos la peor crisis financiera, la Gran Recesión, la peor desde la década de 1930. Eso se debió en gran parte a las políticas fiscales que recortaron los impuestos a los ricos, no invirtieron en la clase media, desviaron la vista de Wall Street y crearon una tormenta perfecta. De hecho, Donald fue una de las personas que apoyaron la crisis de la vivienda. Dijo, en 2006, \"Caramba, espero que se derrumbe, porque entonces puedo ir a comprar algo y ganar algo de dinero\". Bueno, se derrumbó.\n",
       " - Nueve millones de personas ... nueve millones de personas perdieron sus empleos. Cinco millones de personas perdieron sus hogares. Y $ 13 billones en riqueza familiar fueron eliminados. Ahora, hemos vuelto de ese abismo. Y no ha sido fácil. Así que ahora estamos en el precipicio de tener una economía potencialmente mucho mejor, pero lo último que debemos hacer es volver a las políticas que nos fallaron en primer lugar. Expertos independientes han mirado lo que he propuesto y lo que Donald ha propuesto, y básicamente han dicho esto, que si su plan de impuestos, que aumentaría la deuda en más de $ 5 billones y en algunos casos perjudicaría a la clase media Las familias en comparación con los ricos, si entraran en vigor, perderíamos 3.5 millones de empleos y tal vez tendríamos otra recesión. Han mirado mis planes y han dicho: está bien, si podemos hacer esto, y tengo la intención de hacerlo, tendremos 10 millones de empleos nuevos más, porque haremos inversiones donde podamos hacer crecer la economía. . Toma energía limpia. Algún país será la superpotencia de energía limpia del siglo XXI. Donald cree que el cambio climático es un engaño perpetrado por los chinos. Creo que es real.\n",
       "-Creo que la ciencia es real.\n",
       "-Y creo que es importante que nos encarguemos de esto y lo tratemos, tanto en casa como en el extranjero. Y esto es lo que podemos hacer. Podemos desplegar medio billón de paneles solares más. Podemos tener suficiente energía limpia para alimentar cada hogar. Podemos construir una nueva red eléctrica moderna. Eso es un montón de trabajos; Eso es mucha nueva actividad económica. Así que he tratado de ser muy específico sobre lo que podemos y debemos hacer, y estoy decidido a que la economía vuelva a moverse realmente, a partir del progreso que hemos logrado en los últimos ocho años, pero nunca Volviendo a lo que nos metió en problemas en primer lugar.\n",
       "-Bueno, en realidad ...\n",
       "-Bueno, en realidad, he pensado en esto bastante.\n",
       "-Y yo tengo ... bueno, no tanto. Creo que mi esposo hizo un buen trabajo en los años noventa. Pienso mucho sobre lo que funcionó y cómo podemos hacerlo funcionar nuevamente ???\n",
       "-... millones de nuevos puestos de trabajo, un presupuesto equilibrado ???\n",
       "-Los ingresos subieron para todos. Los empleos de manufactura también aumentaron en la década de 1990, si realmente vamos a analizar los hechos. Cuando estaba en el Senado, tenía una serie de acuerdos comerciales que se me habían presentado y los sometí a todos a la misma prueba. ¿Crearán empleos en Estados Unidos? ¿Aumentarán los ingresos en América? ¿Y son buenos para nuestra seguridad nacional? Algunos de ellos voté por. La más grande, una multinacional conocida como CAFTA, voté en contra. Y porque mantengo los mismos estándares que veo en todos estos acuerdos comerciales. Pero no asumamos que el comercio es el único desafío que tenemos en la economía. Creo que es una parte de eso, y he dicho lo que voy a hacer. Voy a tener un fiscal especial. Vamos a hacer cumplir los acuerdos comerciales que tenemos, y vamos a pedir cuentas a las personas. Cuando era secretario de estado, en realidad aumentábamos las exportaciones estadounidenses a nivel global en un 30 por ciento. Los aumentamos a China 50 por ciento. Así que sé cómo trabajar realmente para obtener nuevos empleos y para obtener exportaciones que ayudaron a crear más empleos nuevos.\n",
       "-Bueno, he sido senador, Donaldâ ?? ¦\n",
       "-Y yo he sido secretaria de estado ...\n",
       "-Y yo he hecho mucho ...\n",
       "-Bueno, esa es tu opinión. Esa es tu opinión.\n",
       "-Bueno, eso no es exacto. Estuve en contra una vez que finalmente se negoció y se establecieron los términos. Escribí sobre eso en ...\n",
       "-No.\n",
       "-Bueno, Donald, sé que vives en tu propia realidad, pero esos no son los hechos. Los hechos son ... Yo dije que esperaba que fuera un buen negocio, pero cuando se negoció ...\n",
       "-... de lo cual no era responsable, llegué a la conclusión de que no lo era. Escribí sobre eso en mi libro ...\n",
       "-... antes incluso de que anuncies.\n",
       "-Mira, hay diferencias ...\n",
       "-Aquí hay ...\n",
       "-Hay opiniones diferentes sobre lo que es bueno para nuestro país, nuestra economía y nuestro liderazgo en el mundo. Y creo que es importante ver lo que debemos hacer para que la economía vuelva a funcionar. Es por eso que dije nuevos empleos con ingresos crecientes, inversiones, no en más recortes de impuestos que agregarían $ 5 billones a la deuda.\n",
       "-Pero en ... Oh, pero lo hago.\n",
       "-De hecho, he escrito un libro al respecto. Se llama \"Stronger Together\". ¿Puedes recogerlo mañana en una librería?\n",
       "-... o en un aeropuerto cerca de usted.\n",
       "-Pero es porque veo esto ... tenemos que tener un fuerte crecimiento, un crecimiento justo, un crecimiento sostenido. También tenemos que ver cómo ayudamos a las familias a equilibrar las responsabilidades en el hogar y las responsabilidades en el negocio. Así que tenemos un conjunto muy robusto de planes. Y las personas han analizado nuestros dos planes, han llegado a la conclusión de que el mío crearía 10 millones de empleos y que los suyos nos perderían 3.5 millones de empleos y explotarían la deuda que tendría una recesión.\n",
       "-Eso no puede ... no puede dejarse reposar.\n",
       "-Yo asumí que habría muchos de estos cargos y reclamaciones, y así ...\n",
       "-Así que hemos tomado la página de inicio de mi sitio web, HillaryClinton.com, y lo hemos convertido en un comprobador de hechos. Entonces, si desea ver en tiempo real cuáles son los hechos, vaya y eche un vistazo. Porque lo que te he propuesto?\n",
       "-... no agregaría un centavo a la deuda, y sus planes agregarían $ 5 billones a la deuda. Lo que he propuesto reduciría las regulaciones y las simplificaría para las pequeñas empresas. Lo que he propuesto se pagaría aumentando los impuestos a los ricos, porque han logrado todos los beneficios en la economía. Y creo que es hora de que los ricos y las corporaciones paguen su parte justa para apoyar a este país.\n",
       "-Bueno, al menos tengo un plan para luchar contra ISIS.\n",
       "-No, no lo estamos. No, no lo estamos.\n",
       "-Eso es un ... eso es ... ir al ... por favor, comprobadores de datos, ponte a trabajar.\n",
       "-Tengo la sensación de que, al final de esta noche, me culparán por todo lo que ha sucedido.\n",
       "-¿Por qué no? ¿Si, Por qué no? [risa]\n",
       "-Sí, bueno, vamos a empezar de nuevo el reloj, Lester. Hemos examinado sus propuestas de impuestos. No veo cambios en las tasas impositivas corporativas ni el tipo de propuestas a las que se refiere que podrían causar la repatriación, y devolver el dinero que se ha quedado atado al extranjero. Resulta que apoyo eso.\n",
       "\"¿¡¿¿¿¿¿¿¿¿¿¿¿¿¿¿¿¿¿¿¿¿¿¿¿¿¿¿¿¿¿¿¿¿¿¿¿¿¿¿¿¿¿¿¿¿¿¿¿¿¿¿¿¿¿ Pero cuando veo lo que propusiste, tienes lo que se llama ahora la laguna de Trump, porque te beneficiaría mucho a ti y al negocio que haces. Usted ha propuesto un enfoque que tiene aâ ?? ¦\n",
       "-... $ 4 mil millones de beneficios fiscales para su familia. ¿Y cuando miras lo que estás proponiendo?\n",
       "-... es is ???\n",
       "-... como dije, goteo trucado hacia abajo. El goteo no funcionó. Nos metió en el lío en el que estábamos, en 2008 y 2009. Reducir los impuestos a los ricos no ha funcionado. Y mucha gente realmente inteligente y rica lo sabe. Y están diciendo: hey, tenemos que hacer más para hacer las contribuciones que deberíamos hacer para reconstruir la clase media. No creo que los trabajos de arriba hacia abajo en Estados Unidos. Creo que construir la clase media, invertir en la clase media, hacer que la universidad esté libre de deudas para que más jóvenes puedan obtener su educación, ayudando a las personas a refinanciar su deuda de la universidad a una tasa más baja. Ese es el tipo de cosas que realmente impulsarán la economía. Lo que necesitamos en los Estados Unidos es un crecimiento amplio e inclusivo, no más ventajas para las personas en la cima.\n",
       "-Bueno, creo que has visto otro ejemplo de cebo y cambio aquí. Durante 40 años, todos los candidatos a presidente han publicado sus declaraciones de impuestos. Puedes ir y ver casi, creo, 39, 40 años de nuestras declaraciones de impuestos, pero todos lo han hecho. Sabemos que el IRS ha dejado en claro que no hay ninguna prohibición de divulgarlo cuando está bajo una auditoría. Así que tienes que preguntarte, ¿por qué no dará a conocer sus declaraciones de impuestos? Y creo que puede haber un par de razones. Primero, tal vez no sea tan rico como dice. Segundo, tal vez no sea tan caritativo como dice ser. En tercer lugar, no conocemos todos sus tratos comerciales, pero, a través de un informe de investigación, se nos informó que debe aproximadamente 650 millones de dólares a Wall Street y bancos extranjeros. O tal vez no quiere que los estadounidenses, todos ustedes que están observando esta noche, sepan que no ha pagado nada en impuestos federales, porque los únicos años que alguien ha visto fueron un par de años en los que tuvo que entregarlos a las autoridades estatales. cuando intentaba obtener una licencia de casino, y demostraron que no pagaba ningún impuesto federal sobre la renta.\n",
       "-Así que si ha pagado cero, eso significa cero para las tropas, cero para los veterinarios, cero para las escuelas o la salud. Y creo que probablemente no esté tan entusiasmado con el hecho de que el resto de nuestro país vea cuáles son las verdaderas razones, porque debe ser algo realmente importante, incluso terrible, que está tratando de ocultar. Y las declaraciones de información financiera, no le dan la tasa de impuestos. No te dan todos los detalles que las declaraciones de impuestos darían. Y me parece que esto es algo que los estadounidenses merecen ver. Y no tengo ninguna razón para creer que alguna vez vaya a liberar sus declaraciones de impuestos, porque hay algo que está ocultando. Y lo adivinaremos. Seguiremos adivinando en qué podría estar escondiéndose. Pero creo que la pregunta es, si alguna vez se acercara a la Casa Blanca, ¿cuáles serían esos conflictos? ¿A quién le debe dinero? Bueno, él te debe las respuestas a eso, y él debería proporcionarlas.\n",
       "- Hago. Sabes, cometí un error al usar un correo electrónico privado.\n",
       "- Y si tuviera que hacerlo otra vez, obviamente lo haría de manera diferente. Pero no voy a poner excusas. Fue un error, y me hago responsable de eso.\n",
       "-Y tal vez porque no ha pagado ningún impuesto federal sobre la renta durante muchos años. [aplausos] Y la otra cosa que creo que es importante ...\n",
       "-... es si tu ... si tu principal reclamo de ser presidente de los Estados Unidos es asunto tuyo, entonces creo que deberíamos hablar de eso. Ya sabes, el gerente de tu campaña dijo que construiste muchas empresas a espaldas de pequeños. Y, de hecho, he conocido a muchas de las personas que se sintieron rígidas por usted y sus negocios, Donald. He conocido a lavaplatos, pintores, arquitectos, instaladores de vidrio, instaladores de mármol, instaladores de cortinas, como lo fue mi papá, a quien se negó a pagar cuando terminaron el trabajo que les pidió que hicieran. Tenemos un arquitecto en la audiencia que diseñó una de sus casas club en uno de sus campos de golf. Es una hermosa instalación. Inmediatamente se puso en uso. ¿Y no pagarías lo que el hombre necesitaba para pagar, lo que te ordenaba que hicieras?\n",
       "-Bueno, toâ ??\n",
       "- ¿Las miles de personas que ha tergiversado en el transcurso de su negocio no merecen algún tipo de disculpa por parte de alguien que ha tomado su trabajo, tomado los bienes que produjeron y luego se negó a pagarles? Solo puedo decir que estoy realmente aliviado de que mi difunto padre nunca haya hecho negocios contigo. Él proporcionó una buena vida de clase media para nosotros, pero la gente para la que trabajaba esperaba que el trato se mantuviera en ambos lados. Y cuando hablamos de su negocio, ha tomado bancarrota comercial seis veces. Hay muchos grandes empresarios que nunca han tomado la bancarrota una vez. Te llamas el rey de la deuda. Hablas de apalancamiento. Incluso en un momento sugirió que trataría de negociar la deuda nacional de los Estados Unidos.\n",
       "-Bueno, a veces no hay una transferencia directa de habilidades de las empresas al gobierno, pero a veces lo que sucedió en los negocios sería realmente malo para el gobierno.\n",
       "-Y tenemos que ser muy claros al respecto.\n",
       "-Bueno, tienes razón. La carrera sigue siendo un reto importante en nuestro país. Desafortunadamente, la raza aún determina demasiado, a menudo determina dónde vive la gente, determina qué tipo de educación en sus escuelas públicas pueden obtener y, sí, determina cómo se les trata en el sistema de justicia penal. Acabamos de ver esos dos ejemplos trágicos tanto en Tulsa como en Charlotte. Y tenemos que hacer varias cosas al mismo tiempo. Tenemos que restaurar la confianza entre las comunidades y la policía. Tenemos que trabajar para asegurarnos de que nuestra policía esté usando la mejor capacitación, las mejores técnicas, y que esté bien preparada para usar la fuerza solo cuando sea necesario. Todos deben ser respetados por la ley, y todos deben respetar la ley. En este momento, ese no es el caso en muchos de nuestros vecindarios. Así que, desde el primer día de mi campaña, he pedido una reforma de la justicia penal. He diseñado una plataforma que creo que comenzaría a remediar algunos de los problemas que tenemos en el sistema de justicia penal. Pero también tenemos que reconocer, además de los desafíos que enfrentamos con la policía, hay tantos agentes de policía buenos y valientes que también quieren una reforma. Entonces, tenemos que unir a las comunidades para comenzar a trabajar en eso como un objetivo mutuo. Y tenemos que sacar las armas de las manos de las personas que no deberían tenerlas. La epidemia de armas de fuego es la principal causa de muerte de los jóvenes afroamericanos, más que las siguientes nueve causas juntas. Así que tenemos que hacer dos cosas, como dije. Tenemos que restaurar la confianza. Tenemos que trabajar con la policía. Tenemos que asegurarnos de que respeten a las comunidades y que las comunidades los respeten. Y tenemos que abordar la plaga de la violencia con armas de fuego, que es un gran contribuyente a muchos de los problemas que estamos viendo hoy.\n",
       "-Bueno, he escuchado ... He escuchado a Donald decir esto en sus mítines, y es realmente desafortunado que pinte un cuadro tan negativo de las comunidades negras en nuestro país.\n",
       "-Usted sabe, la vitalidad de la iglesia negra, los negocios negros que emplean a tanta gente, las oportunidades que tantas familias están trabajando para brindarles a sus hijos. Hay muchas cosas de las que deberíamos estar orgullosos y debemos estar apoyando y levantando. Pero siempre tenemos que asegurarnos de mantener a las personas seguras. Hay las formas correctas de hacerlo, y luego hay formas que son ineficaces. Parar y registrar se encontró que era inconstitucional y, en parte, porque era inefectivo. No hizo lo que tenía que hacer. Ahora, creo en la policía comunitaria. Y, de hecho, el crimen violento es la mitad de lo que era en 1991. El crimen contra la propiedad ha bajado un 40 por ciento. Simplemente no queremos verlo volver a subir. Hemos tenido 25 años de muy buena cooperación. Pero hubo algunos problemas, algunas consecuencias involuntarias. Demasiados jóvenes afroamericanos y latinos terminaron en la cárcel por delitos no violentos. Y es solo un hecho que si usted es un joven afroamericano y hace lo mismo que un joven blanco, es más probable que sea arrestado, acusado, condenado y encarcelado. Así que tenemos que abordar el racismo sistémico en nuestro sistema de justicia penal. No podemos simplemente decir ley y orden. Tenemos que decir \"tenemos que presentar un plan que desviará a las personas del sistema de justicia penal, lidiar con sentencias mínimas obligatorias, que han alejado a muchas personas durante demasiado tiempo por hacer demasiado poco\". Necesitamos tener más programas de segunda oportunidad. Me alegra que estemos terminando las prisiones privadas en el sistema federal; Quiero verlos terminados en el sistema estatal. No debes tener una motivación de lucro para llenar las celdas de la prisión con jóvenes estadounidenses. Así que hay algunas maneras positivas en que podemos trabajar en esto. Y creo firmemente que las medidas de seguridad de armas de sentido común nos ayudarán. En este momento, y esto es algo que Donald ha apoyado, junto con el lobby de armas, en este momento, tenemos demasiadas armas de estilo militar en las calles. En muchos lugares, nuestra policía está superada en armas. Necesitamos verificaciones exhaustivas de los antecedentes, y debemos mantener las armas fuera del alcance de quienes hagan daño. Y, finalmente, debemos aprobar la prohibición de que cualquier persona que esté en la lista de vigilancia terrorista pueda comprar un arma en nuestro país. Si eres demasiado peligroso para volar, eres demasiado peligroso para comprar un arma. Entonces hay cosas que podemos hacer, y debemos hacerlo de manera bipartidista.\n",
       "- Lester, creo que el sesgo implícito es un problema para todos, no solo para la policía. Creo que, desafortunadamente, muchos de nosotros en nuestro gran país saltamos a conclusiones sobre los demás. Y, por lo tanto, creo que necesitamos que todos nos hagamos preguntas difíciles acerca de, ¿saben por qué me siento así? Pero cuando se trata de vigilancia policial, ya que puede tener consecuencias literalmente fatales, como dije, en mi primer presupuesto, pondríamos dinero en ese presupuesto para ayudarnos a enfrentar el sesgo implícito al capacitar a muchos de nuestros agentes de policía. Me reuní con un grupo de jefes de policía muy distinguidos y experimentados hace unas semanas. Ellos admiten que es un problema. Tienen muchas preocupaciones. La salud mental es una de las mayores preocupaciones, porque ahora la policía tiene que manejar muchos problemas de salud mental realmente difíciles en la calle. Quieren apoyo, quieren más capacitación, quieren más ayuda. Y creo que el gobierno federal podría estar en una posición en la que ofreceríamos y proporcionaríamos eso.\n",
       "-Bueno, también es justo decir que si vamos a hablar sobre los alcaldes, que bajo el alcalde actual, el crimen ha seguido disminuyendo, incluidos los asesinatos. Así que hay ...\n",
       "-No no soy.\n",
       "-Nueva York ... Nueva York ha hecho un excelente trabajo. Y le doy crédito ... Le doy crédito en general a dos alcaldes, dos jefes de policía, porque ha funcionado. Y otras comunidades también deben unirse para hacer lo que funcionará. Mira, un asesinato es demasiado. Pero es importante que aprendamos sobre lo que ha sido efectivo. Y no ir a cosas que suenan bien que realmente no tuvieron el tipo de impacto que quisiéramos. ¿Quién no está de acuerdo con mantener seguros los vecindarios? Pero también agreguemos, nadie debe estar en desacuerdo sobre el respeto de los derechos de los hombres jóvenes que viven en esos vecindarios. Y, por lo tanto, debemos hacer un mejor trabajo de trabajo, nuevamente, con las comunidades, las comunidades religiosas, las comunidades empresariales y la policía para tratar de resolver este problema.\n",
       "-Bueno, yo ... creo que ...\n",
       "\"¿Creo que ...? Creo ...\" Creo que Donald me acaba de criticar por prepararme para este debate. Y, sí, lo hice. ¿Y sabes para qué más me preparé? Me preparé para ser presidente. Y creo que eso es algo bueno. [aplausos]\n",
       "-Bueno, solo escucha lo que escuchaste. [risa]\n",
       "Y claramente, como Donald acaba de admitir, él sabía que iba a presentarse en este escenario del debate, y Lester Holt nos iba a hacer preguntas, por lo que intentó acostar a todo el birther racista. Pero no se puede descartar tan fácilmente. Realmente comenzó su actividad política basándose en esta mentira racista de que nuestro primer presidente negro no era un ciudadano estadounidense. No había absolutamente ninguna evidencia de ello, pero él persistió, persistió año tras año, porque algunos de sus partidarios, personas que estaba tratando de traer a su redil, aparentemente lo creyeron o querían creerlo. Pero, recuerde, Donald comenzó su carrera en 1973 y fue demandado por el Departamento de Justicia por discriminación racial porque no le alquilaría apartamentos en uno de sus desarrollos a afroamericanos, y se aseguró de que las personas que trabajaban para él comprendieran que La política. En realidad fue demandado dos veces por el Departamento de Justicia. Así que él tiene un largo historial de participación en el comportamiento racista. Y la mentira birther era muy hiriente. Ya sabes, Barack Obama es un hombre de gran dignidad. Y me di cuenta de lo mucho que le molestaba y le molestaba que se estuviera promocionando y usando contra él. Pero me gusta recordar lo que dijo Michelle Obama en su asombroso discurso en nuestra Convención Nacional Demócrata: cuando se agotan, vamos alto. Y Barack Obama fue alto, a pesar de los mejores esfuerzos de Donald Trump para derribarlo.\n",
       "-Bueno, creo que la seguridad cibernética, la guerra cibernética será uno de los mayores desafíos que enfrentará el próximo presidente, porque claramente estamos enfrentando en este punto dos tipos diferentes de adversarios. Hay grupos de piratería independientes que lo hacen principalmente por razones comerciales para intentar robar información que pueden usar para ganar dinero. Pero cada vez más, estamos viendo ataques cibernéticos provenientes de estados, órganos de estados. El más reciente y preocupante de estos ha sido Rusia. Ahora no hay duda de que Rusia ha utilizado ataques cibernéticos contra todo tipo de organizaciones en nuestro país, y estoy profundamente preocupado por esto. Sé que Donald es muy digno de elogio de Vladimir Putin, pero Putin está jugando un juego realmente muy fuerte aquí. Y una de las cosas que ha hecho es dejar que los ciberataques sueltos para piratear archivos gubernamentales, piratear archivos personales, piratear el Comité Nacional Demócrata. Y recientemente hemos aprendido que, sabes, este es uno de sus métodos preferidos para tratar de causar estragos y recopilar información. Tenemos que dejarlo muy claro \"ya sea Rusia, China, Irán o cualquier otra persona\", Estados Unidos tiene una capacidad mucho mayor. Y no vamos a quedarnos sin hacer nada y permitir que los actores estatales persigan nuestra información, nuestra información del sector privado o nuestra información del sector público. Y tendremos que dejar en claro que no queremos utilizar los tipos de herramientas que tenemos. No queremos participar en un tipo diferente de guerra. Pero defenderemos a los ciudadanos de este país. Y los rusos necesitan entender eso. Creo que lo han estado tratando casi como un sondeo, hasta dónde iríamos, cuánto haríamos. Y es por eso que estaba tan ... Me sorprendió mucho cuando Donald invitó públicamente a Putin para que atacara a los estadounidenses. Eso es simplemente inaceptable. Es una de las razones por las que 50 funcionarios de seguridad nacional que sirvieron en la información republicana \"en las administraciones\"\n",
       "-... han dicho que Donald no es apto para ser el comandante en jefe. Es un comentario como ese que realmente preocupa a las personas que entienden las amenazas que enfrentamos.\n",
       "-Bueno, creo que hay una serie de cuestiones que deberíamos abordar. He presentado un plan para derrotar a ISIS. Implica ir tras ellos en línea. Creo que debemos hacer mucho más con nuestras empresas de tecnología para evitar que ISIS y sus agentes puedan usar Internet para radicalizar, incluso dirigir a las personas de nuestro país, Europa y otros lugares. Pero también tenemos que intensificar nuestros ataques aéreos contra ISIS y, eventualmente, apoyar a nuestros socios árabes y kurdos para que puedan eliminar a ISIS en Raqqa y poner fin a su afirmación de ser un califato. Estamos haciendo progresos. Nuestro ejército está ayudando en Irak. Y esperamos que dentro del año podamos expulsar a ISIS de Irak y luego, ustedes saben, realmente exprimirlos en Siria. Pero tenemos que ser conscientes del hecho de que han tenido combatientes extranjeros que vienen a ofrecerse como voluntarios, dinero extranjero, armas extranjeras, por lo que tenemos que hacer de esto la máxima prioridad. Y también haría todo lo posible para sacar su liderazgo. Estuve involucrado en varios esfuerzos para eliminar el liderazgo de Al Qaida cuando era secretario de estado, incluyendo, por supuesto, eliminar a bin Laden. Y creo que también tenemos que perseguir a Baghdadi, para que sea uno de nuestros principios de organización. Porque tenemos que derrotar a ISIS, y tenemos que hacer todo lo posible para interrumpir sus esfuerzos de propaganda en línea.\n",
       "- Bueno, espero que los verificadores de datos estén subiendo el volumen y realmente trabajando duro. Donald apoyó la invasión de Irak.\n",
       "-Esto está absolutamente probado una y otra vez.\n",
       "-Realmente abogó por las acciones que tomamos en Libia e instó a que se retirara a Gadafi, después de haber hecho negocios con él una vez. Pero el punto más importante \"y él dice que esto es constante\" es que George W. Bush llegó a un acuerdo sobre cuándo las tropas estadounidenses se irían de Irak, no a Barack Obama. Y la única forma en que las tropas estadounidenses podrían haber permanecido en Irak es obtener un acuerdo del entonces gobierno iraquí que habría protegido a nuestras tropas, y el gobierno iraquí no lo daría. Pero hablemos de la pregunta que hiciste, Lester. La pregunta que hizo es: ¿qué hacemos aquí en los Estados Unidos? Esa es la parte más importante de esto. ¿Cómo prevenimos los ataques? ¿Cómo protegemos a nuestra gente? Y creo que debemos tener un aumento de inteligencia, donde estamos buscando cada fragmento de información. Estaba tan orgulloso de la aplicación de la ley en Nueva York, en Minnesota, en Nueva Jersey. Sabes, respondieron tan rápidamente, tan profesionalmente a los ataques que ocurrieron por Rahami. Y lo derribaron. Y podemos encontrar más información porque él todavía está vivo, lo que puede resultar ser un beneficio de inteligencia. Así que tenemos que hacer todo lo posible para limpiar la inteligencia de Europa, del Medio Oriente. Eso significa que tenemos que trabajar más estrechamente con nuestros aliados, y eso es algo de lo que Donald ha sido muy desdeñoso. Estamos trabajando con la OTAN, la alianza militar más larga en la historia del mundo, para realmente centrar nuestra atención en el terrorismo. Estamos trabajando con nuestros amigos en el Medio Oriente, muchos de los cuales, como saben, son naciones de mayoría musulmana. Donald ha insultado constantemente a los musulmanes en el extranjero, a los musulmanes en casa, cuando necesitamos cooperar con las naciones musulmanas y con la comunidad musulmana estadounidense. Están en primera línea. Pueden proporcionarnos información que no podríamos obtener en ningún otro lugar. Deben tener una estrecha cooperación de trabajo con las fuerzas del orden público en estas comunidades, no estar enajenados ni rechazados, como desafortunadamente ha conducido la retórica de Donald.\n",
       "-Lester, hemos cubierto ...\n",
       "-Hemos cubierto este terreno.\n",
       "-Bueno, está bien. [risas] Hablemos de dos temas importantes que fueron brevemente mencionados por Donald, primero, la OTAN. Ya sabes, la OTAN como alianza militar tiene algo que se llama el Artículo 5, y básicamente dice esto: un ataque a uno es un ataque a todos. ¿Y sabes la única vez que se ha invocado? Después del 11 de septiembre, cuando las 28 naciones de la OTAN dijeron que irían a Afganistán con nosotros para combatir el terrorismo, algo que todavía están haciendo a nuestro lado. Con respecto a Irán, cuando me convertí en secretario de estado, Irán estaba a semanas de tener suficiente material nuclear para formar una bomba. Habían dominado el ciclo del combustible nuclear bajo la administración de Bush. Habían construido instalaciones encubiertas. Los habían abastecido con centrifugadoras que giraban. Y los habíamos sancionado. Voté a favor de todas las sanciones contra Irán cuando estaba en el Senado, pero no fue suficiente. Así que pasé un año y medio armando una coalición que incluía a Rusia y China para imponer las sanciones más duras a Irán. Y los llevamos a la mesa de negociaciones. Y mi sucesor, John Kerry, y el presidente Obama obtuvieron un acuerdo que puso fin al programa nuclear de Irán sin disparar un solo tiro. Eso es diplomacia. Eso es construir una coalición. Eso es trabajar con otras naciones. El otro día, vi a Donald decir que había algunos marineros iraníes en un barco en las aguas de Irán, y estaban burlándose de los marineros estadounidenses que se encontraban en un barco cercano. Él dijo, ya sabes, si se burlaban de nuestros marineros, los sacaría del agua y comenzaría otra guerra. Eso no es buen juicio.\n",
       "-Ese no es el temperamento correcto para ser comandante en jefe, para ser burlado. ¿Y la peor parte?\n",
       "-... de lo que escuchamos decir a Donald ha sido sobre armas nucleares. En repetidas ocasiones ha dicho que no le importaba que otras naciones tuvieran armas nucleares, Japón, Corea del Sur e incluso Arabia Saudita. Ha sido la política de los Estados Unidos, los demócratas y los republicanos, hacer todo lo posible para reducir la proliferación de armas nucleares. He even said, well, you know, if there were nuclear war in East Asia, well, you know, that's fineâ??¦\n",
       "-... have a good time, folks.\n",
       "-And, in fact, his cavalier attitude about nuclear weapons is so deeply troubling. That is the number-one threat we face in the world. And it becomes particularly threatening if terrorists ever get their hands on any nuclear material. So a man who can be provoked by a tweet should not have his fingers anywhere near the nuclear codes, as far as I think anyone with any sense about this should be concerned.\n",
       "-It's a good one, though. It well describes the problem. [risa]\n",
       "-Well, let meâ????let me start by saying, words matter. Words matter when you run for president. And they really matter when you are president. And I want to reassure our allies in Japan and South Korea and elsewhere that we have mutual defense treaties and we will honor them. It is essential that America's word be good. And so I know that this campaign has caused some questioning and worries on the part of many leaders across the globe. I've talked with a number of them. But I want toâ????on behalf of myself, and I think on behalf of a majority of the American people, say that, you know, our word is good. It's also important that we look at the entire global situation. There's no doubt that we have other problems with Iran. But personally, I'd rather deal with the other problems having put that lid on their nuclear program than still to be facing that. And Donald never tells you what he would do. Would he have started a war? Would he have bombed Iran? If he's going to criticize a deal that has been very successful in giving us access to Iranian facilities that we never had before, then he should tell us what his alternative would be. But it's like his plan to defeat ISIS. He says it's a secret plan, but the only secret is that he has no plan. So we need to be more precise in how we talk about these issues. People around the word follow our presidential campaigns so closely, trying to get hints about what we will do. Can they rely on us? Are we going to lead the world with strength and in accordance with our values? That's what I intend to do. I intend to be a leader of our country that people can count on, both here at home and around the world, to make decisions that will further peace and prosperity, but also stand up to bullies, whether they're abroad or at home. We cannot let those who would try to destabilize the world to interfere with American interests and securityâ??¦\n",
       "-... to be given any opportunities at all.\n",
       "-Well, as soon as he travels to 112 countries and negotiates a peace deal, a cease-fire, a release of dissidents, an opening of new opportunities in nations around the world, or even spends 11 hours testifying in front of a congressional committee, he can talk to me about stamina. [applause]\n",
       "-Well, one thing. One thing, Lester.\n",
       "-You know, he tried to switch from looks to stamina. But this is a man who has called women pigs, slobs and dogs, and someone who has said pregnancy is an inconvenience to employers, who has said...\n",
       "-.... women don't deserve equal pay unless they do as good a job as men.\n",
       "-And one of the worst things he said was about a woman in a beauty contest. He loves beauty contests, supporting them and hanging around them. And he called this woman \"Miss Piggy.\" Then he called her \"Miss Housekeeping,\" because she was Latina. Donald, she has a name.\n",
       "-Her name is Alicia Machado.\n",
       "-And she has become a U.S. citizen, and you can betâ??¦\n",
       "-... she's going to vote this November.\n",
       "-Well, I support our democracy. And sometimes you win, sometimes you lose. But I certainly will support the outcome of this election. And I know Donald's trying very hard to plant doubts about it, but I hope the people out there understand: This election's really up to you. It's not about us so much as it is about you and your families and the kind of country and future you want. So I sure hope you will get out and vote as though your future depended on it, because I think it does.\")"
      ]
     },
     "execution_count": 132,
     "metadata": {},
     "output_type": "execute_result"
    }
   ],
   "source": [
    "# text.translate(to=\"es\")"
   ]
  },
  {
   "cell_type": "code",
   "execution_count": null,
   "metadata": {},
   "outputs": [],
   "source": []
  }
 ],
 "metadata": {
  "kernelspec": {
   "display_name": "Python 3",
   "language": "python",
   "name": "python3"
  },
  "language_info": {
   "codemirror_mode": {
    "name": "ipython",
    "version": 3
   },
   "file_extension": ".py",
   "mimetype": "text/x-python",
   "name": "python",
   "nbconvert_exporter": "python",
   "pygments_lexer": "ipython3",
   "version": "3.7.0"
  }
 },
 "nbformat": 4,
 "nbformat_minor": 2
}
