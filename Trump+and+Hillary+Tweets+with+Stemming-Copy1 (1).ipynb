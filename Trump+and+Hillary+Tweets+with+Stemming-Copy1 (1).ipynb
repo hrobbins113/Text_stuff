{
 "cells": [
  {
   "cell_type": "code",
   "execution_count": 4,
   "metadata": {},
   "outputs": [],
   "source": [
    "import pandas as pd\n",
    "import numpy as np\n",
    "import matplotlib.pyplot as plt\n",
    "%matplotlib inline\n",
    "from sklearn.feature_extraction.text import CountVectorizer\n",
    "import string\n",
    "from nltk.corpus import stopwords\n",
    "from nltk.stem import PorterStemmer\n",
    "from sklearn.model_selection import train_test_split\n",
    "\n",
    "from sklearn.metrics import classification_report, confusion_matrix, accuracy_score\n",
    "from sklearn.metrics import roc_auc_score\n",
    "from sklearn.metrics import roc_curve, auc\n",
    "import seaborn as sns\n",
    "from sklearn.linear_model import LogisticRegression\n",
    "\n",
    "pd.set_option('display.max_colwidth', -1)\n",
    "\n",
    "df = pd.read_csv('tweets.csv', encoding= 'utf-8')"
   ]
  },
  {
   "cell_type": "code",
   "execution_count": 5,
   "metadata": {},
   "outputs": [],
   "source": [
    "df = df[['handle', 'text', 'is_retweet']]"
   ]
  },
  {
   "cell_type": "code",
   "execution_count": null,
   "metadata": {},
   "outputs": [],
   "source": []
  },
  {
   "cell_type": "code",
   "execution_count": 6,
   "metadata": {},
   "outputs": [],
   "source": [
    "df = df.loc[df['is_retweet'] == False]"
   ]
  },
  {
   "cell_type": "code",
   "execution_count": 7,
   "metadata": {},
   "outputs": [
    {
     "data": {
      "text/html": [
       "<div>\n",
       "<style scoped>\n",
       "    .dataframe tbody tr th:only-of-type {\n",
       "        vertical-align: middle;\n",
       "    }\n",
       "\n",
       "    .dataframe tbody tr th {\n",
       "        vertical-align: top;\n",
       "    }\n",
       "\n",
       "    .dataframe thead th {\n",
       "        text-align: right;\n",
       "    }\n",
       "</style>\n",
       "<table border=\"1\" class=\"dataframe\">\n",
       "  <thead>\n",
       "    <tr style=\"text-align: right;\">\n",
       "      <th></th>\n",
       "      <th>handle</th>\n",
       "      <th>text</th>\n",
       "      <th>is_retweet</th>\n",
       "    </tr>\n",
       "  </thead>\n",
       "  <tbody>\n",
       "    <tr>\n",
       "      <th>0</th>\n",
       "      <td>HillaryClinton</td>\n",
       "      <td>The question in this election: Who can put the plans into action that will make your life better? https://t.co/XreEY9OicG</td>\n",
       "      <td>False</td>\n",
       "    </tr>\n",
       "    <tr>\n",
       "      <th>3</th>\n",
       "      <td>HillaryClinton</td>\n",
       "      <td>If we stand together, there's nothing we can't do. \\n\\nMake sure you're ready to vote: https://t.co/tTgeqxNqYm https://t.co/Q3Ymbb7UNy</td>\n",
       "      <td>False</td>\n",
       "    </tr>\n",
       "    <tr>\n",
       "      <th>4</th>\n",
       "      <td>HillaryClinton</td>\n",
       "      <td>Both candidates were asked about how they'd confront racial injustice. Only one had a real answer. https://t.co/sjnEokckis</td>\n",
       "      <td>False</td>\n",
       "    </tr>\n",
       "  </tbody>\n",
       "</table>\n",
       "</div>"
      ],
      "text/plain": [
       "           handle  \\\n",
       "0  HillaryClinton   \n",
       "3  HillaryClinton   \n",
       "4  HillaryClinton   \n",
       "\n",
       "                                                                                                                                     text  \\\n",
       "0  The question in this election: Who can put the plans into action that will make your life better? https://t.co/XreEY9OicG                \n",
       "3  If we stand together, there's nothing we can't do. \\n\\nMake sure you're ready to vote: https://t.co/tTgeqxNqYm https://t.co/Q3Ymbb7UNy   \n",
       "4  Both candidates were asked about how they'd confront racial injustice. Only one had a real answer. https://t.co/sjnEokckis               \n",
       "\n",
       "   is_retweet  \n",
       "0  False       \n",
       "3  False       \n",
       "4  False       "
      ]
     },
     "execution_count": 7,
     "metadata": {},
     "output_type": "execute_result"
    }
   ],
   "source": [
    "df.head(3)  #the index is a little wonky now, let's reset it"
   ]
  },
  {
   "cell_type": "code",
   "execution_count": 8,
   "metadata": {},
   "outputs": [],
   "source": [
    "df = df.copy().reset_index(drop=True)"
   ]
  },
  {
   "cell_type": "code",
   "execution_count": 9,
   "metadata": {},
   "outputs": [
    {
     "data": {
      "text/html": [
       "<div>\n",
       "<style scoped>\n",
       "    .dataframe tbody tr th:only-of-type {\n",
       "        vertical-align: middle;\n",
       "    }\n",
       "\n",
       "    .dataframe tbody tr th {\n",
       "        vertical-align: top;\n",
       "    }\n",
       "\n",
       "    .dataframe thead th {\n",
       "        text-align: right;\n",
       "    }\n",
       "</style>\n",
       "<table border=\"1\" class=\"dataframe\">\n",
       "  <thead>\n",
       "    <tr style=\"text-align: right;\">\n",
       "      <th></th>\n",
       "      <th>handle</th>\n",
       "      <th>text</th>\n",
       "      <th>is_retweet</th>\n",
       "    </tr>\n",
       "  </thead>\n",
       "  <tbody>\n",
       "    <tr>\n",
       "      <th>0</th>\n",
       "      <td>HillaryClinton</td>\n",
       "      <td>The question in this election: Who can put the plans into action that will make your life better? https://t.co/XreEY9OicG</td>\n",
       "      <td>False</td>\n",
       "    </tr>\n",
       "    <tr>\n",
       "      <th>1</th>\n",
       "      <td>HillaryClinton</td>\n",
       "      <td>If we stand together, there's nothing we can't do. \\n\\nMake sure you're ready to vote: https://t.co/tTgeqxNqYm https://t.co/Q3Ymbb7UNy</td>\n",
       "      <td>False</td>\n",
       "    </tr>\n",
       "    <tr>\n",
       "      <th>2</th>\n",
       "      <td>HillaryClinton</td>\n",
       "      <td>Both candidates were asked about how they'd confront racial injustice. Only one had a real answer. https://t.co/sjnEokckis</td>\n",
       "      <td>False</td>\n",
       "    </tr>\n",
       "    <tr>\n",
       "      <th>3</th>\n",
       "      <td>realDonaldTrump</td>\n",
       "      <td>Join me for a 3pm rally - tomorrow at the Mid-America Center in Council Bluffs, Iowa! Tickets:… https://t.co/dfzsbICiXc</td>\n",
       "      <td>False</td>\n",
       "    </tr>\n",
       "    <tr>\n",
       "      <th>4</th>\n",
       "      <td>HillaryClinton</td>\n",
       "      <td>This election is too important to sit out. Go to https://t.co/tTgeqxNqYm and make sure you're registered. #NationalVoterRegistrationDay -H</td>\n",
       "      <td>False</td>\n",
       "    </tr>\n",
       "  </tbody>\n",
       "</table>\n",
       "</div>"
      ],
      "text/plain": [
       "            handle  \\\n",
       "0  HillaryClinton    \n",
       "1  HillaryClinton    \n",
       "2  HillaryClinton    \n",
       "3  realDonaldTrump   \n",
       "4  HillaryClinton    \n",
       "\n",
       "                                                                                                                                         text  \\\n",
       "0  The question in this election: Who can put the plans into action that will make your life better? https://t.co/XreEY9OicG                    \n",
       "1  If we stand together, there's nothing we can't do. \\n\\nMake sure you're ready to vote: https://t.co/tTgeqxNqYm https://t.co/Q3Ymbb7UNy       \n",
       "2  Both candidates were asked about how they'd confront racial injustice. Only one had a real answer. https://t.co/sjnEokckis                   \n",
       "3  Join me for a 3pm rally - tomorrow at the Mid-America Center in Council Bluffs, Iowa! Tickets:… https://t.co/dfzsbICiXc                      \n",
       "4  This election is too important to sit out. Go to https://t.co/tTgeqxNqYm and make sure you're registered. #NationalVoterRegistrationDay -H   \n",
       "\n",
       "   is_retweet  \n",
       "0  False       \n",
       "1  False       \n",
       "2  False       \n",
       "3  False       \n",
       "4  False       "
      ]
     },
     "execution_count": 9,
     "metadata": {},
     "output_type": "execute_result"
    }
   ],
   "source": [
    "df.head()"
   ]
  },
  {
   "cell_type": "code",
   "execution_count": 10,
   "metadata": {},
   "outputs": [],
   "source": [
    "df['is_trump'] = df['handle'].apply(lambda x: 1 if x== 'realDonaldTrump' else 0) "
   ]
  },
  {
   "cell_type": "code",
   "execution_count": 11,
   "metadata": {
    "scrolled": true
   },
   "outputs": [
    {
     "data": {
      "text/html": [
       "<div>\n",
       "<style scoped>\n",
       "    .dataframe tbody tr th:only-of-type {\n",
       "        vertical-align: middle;\n",
       "    }\n",
       "\n",
       "    .dataframe tbody tr th {\n",
       "        vertical-align: top;\n",
       "    }\n",
       "\n",
       "    .dataframe thead th {\n",
       "        text-align: right;\n",
       "    }\n",
       "</style>\n",
       "<table border=\"1\" class=\"dataframe\">\n",
       "  <thead>\n",
       "    <tr style=\"text-align: right;\">\n",
       "      <th></th>\n",
       "      <th>handle</th>\n",
       "      <th>text</th>\n",
       "      <th>is_retweet</th>\n",
       "      <th>is_trump</th>\n",
       "    </tr>\n",
       "  </thead>\n",
       "  <tbody>\n",
       "    <tr>\n",
       "      <th>0</th>\n",
       "      <td>HillaryClinton</td>\n",
       "      <td>The question in this election: Who can put the plans into action that will make your life better? https://t.co/XreEY9OicG</td>\n",
       "      <td>False</td>\n",
       "      <td>0</td>\n",
       "    </tr>\n",
       "    <tr>\n",
       "      <th>1</th>\n",
       "      <td>HillaryClinton</td>\n",
       "      <td>If we stand together, there's nothing we can't do. \\n\\nMake sure you're ready to vote: https://t.co/tTgeqxNqYm https://t.co/Q3Ymbb7UNy</td>\n",
       "      <td>False</td>\n",
       "      <td>0</td>\n",
       "    </tr>\n",
       "    <tr>\n",
       "      <th>2</th>\n",
       "      <td>HillaryClinton</td>\n",
       "      <td>Both candidates were asked about how they'd confront racial injustice. Only one had a real answer. https://t.co/sjnEokckis</td>\n",
       "      <td>False</td>\n",
       "      <td>0</td>\n",
       "    </tr>\n",
       "    <tr>\n",
       "      <th>3</th>\n",
       "      <td>realDonaldTrump</td>\n",
       "      <td>Join me for a 3pm rally - tomorrow at the Mid-America Center in Council Bluffs, Iowa! Tickets:… https://t.co/dfzsbICiXc</td>\n",
       "      <td>False</td>\n",
       "      <td>1</td>\n",
       "    </tr>\n",
       "    <tr>\n",
       "      <th>4</th>\n",
       "      <td>HillaryClinton</td>\n",
       "      <td>This election is too important to sit out. Go to https://t.co/tTgeqxNqYm and make sure you're registered. #NationalVoterRegistrationDay -H</td>\n",
       "      <td>False</td>\n",
       "      <td>0</td>\n",
       "    </tr>\n",
       "  </tbody>\n",
       "</table>\n",
       "</div>"
      ],
      "text/plain": [
       "            handle  \\\n",
       "0  HillaryClinton    \n",
       "1  HillaryClinton    \n",
       "2  HillaryClinton    \n",
       "3  realDonaldTrump   \n",
       "4  HillaryClinton    \n",
       "\n",
       "                                                                                                                                         text  \\\n",
       "0  The question in this election: Who can put the plans into action that will make your life better? https://t.co/XreEY9OicG                    \n",
       "1  If we stand together, there's nothing we can't do. \\n\\nMake sure you're ready to vote: https://t.co/tTgeqxNqYm https://t.co/Q3Ymbb7UNy       \n",
       "2  Both candidates were asked about how they'd confront racial injustice. Only one had a real answer. https://t.co/sjnEokckis                   \n",
       "3  Join me for a 3pm rally - tomorrow at the Mid-America Center in Council Bluffs, Iowa! Tickets:… https://t.co/dfzsbICiXc                      \n",
       "4  This election is too important to sit out. Go to https://t.co/tTgeqxNqYm and make sure you're registered. #NationalVoterRegistrationDay -H   \n",
       "\n",
       "   is_retweet  is_trump  \n",
       "0  False       0         \n",
       "1  False       0         \n",
       "2  False       0         \n",
       "3  False       1         \n",
       "4  False       0         "
      ]
     },
     "execution_count": 11,
     "metadata": {},
     "output_type": "execute_result"
    }
   ],
   "source": [
    "df.head()"
   ]
  },
  {
   "cell_type": "markdown",
   "metadata": {},
   "source": [
    "# PREPROCESSING"
   ]
  },
  {
   "cell_type": "code",
   "execution_count": 12,
   "metadata": {},
   "outputs": [],
   "source": [
    "df['text'] = df['text'].replace('http\\S+', '', regex=True).replace('www\\S+', '', regex=True).replace('\\n\\n\\S+', '', regex=True)"
   ]
  },
  {
   "cell_type": "code",
   "execution_count": null,
   "metadata": {},
   "outputs": [],
   "source": []
  },
  {
   "cell_type": "code",
   "execution_count": 13,
   "metadata": {},
   "outputs": [],
   "source": [
    "# in regular expressions, the S+ is looking for any non-whitespace characters that come after the http, www or \\n\\n"
   ]
  },
  {
   "cell_type": "code",
   "execution_count": 14,
   "metadata": {
    "scrolled": true
   },
   "outputs": [
    {
     "data": {
      "text/html": [
       "<div>\n",
       "<style scoped>\n",
       "    .dataframe tbody tr th:only-of-type {\n",
       "        vertical-align: middle;\n",
       "    }\n",
       "\n",
       "    .dataframe tbody tr th {\n",
       "        vertical-align: top;\n",
       "    }\n",
       "\n",
       "    .dataframe thead th {\n",
       "        text-align: right;\n",
       "    }\n",
       "</style>\n",
       "<table border=\"1\" class=\"dataframe\">\n",
       "  <thead>\n",
       "    <tr style=\"text-align: right;\">\n",
       "      <th></th>\n",
       "      <th>handle</th>\n",
       "      <th>text</th>\n",
       "      <th>is_retweet</th>\n",
       "      <th>is_trump</th>\n",
       "    </tr>\n",
       "  </thead>\n",
       "  <tbody>\n",
       "    <tr>\n",
       "      <th>0</th>\n",
       "      <td>HillaryClinton</td>\n",
       "      <td>The question in this election: Who can put the plans into action that will make your life better?</td>\n",
       "      <td>False</td>\n",
       "      <td>0</td>\n",
       "    </tr>\n",
       "    <tr>\n",
       "      <th>1</th>\n",
       "      <td>HillaryClinton</td>\n",
       "      <td>If we stand together, there's nothing we can't do.  sure you're ready to vote:</td>\n",
       "      <td>False</td>\n",
       "      <td>0</td>\n",
       "    </tr>\n",
       "    <tr>\n",
       "      <th>2</th>\n",
       "      <td>HillaryClinton</td>\n",
       "      <td>Both candidates were asked about how they'd confront racial injustice. Only one had a real answer.</td>\n",
       "      <td>False</td>\n",
       "      <td>0</td>\n",
       "    </tr>\n",
       "    <tr>\n",
       "      <th>3</th>\n",
       "      <td>realDonaldTrump</td>\n",
       "      <td>Join me for a 3pm rally - tomorrow at the Mid-America Center in Council Bluffs, Iowa! Tickets:…</td>\n",
       "      <td>False</td>\n",
       "      <td>1</td>\n",
       "    </tr>\n",
       "    <tr>\n",
       "      <th>4</th>\n",
       "      <td>HillaryClinton</td>\n",
       "      <td>This election is too important to sit out. Go to  and make sure you're registered. #NationalVoterRegistrationDay -H</td>\n",
       "      <td>False</td>\n",
       "      <td>0</td>\n",
       "    </tr>\n",
       "  </tbody>\n",
       "</table>\n",
       "</div>"
      ],
      "text/plain": [
       "            handle  \\\n",
       "0  HillaryClinton    \n",
       "1  HillaryClinton    \n",
       "2  HillaryClinton    \n",
       "3  realDonaldTrump   \n",
       "4  HillaryClinton    \n",
       "\n",
       "                                                                                                                  text  \\\n",
       "0  The question in this election: Who can put the plans into action that will make your life better?                     \n",
       "1  If we stand together, there's nothing we can't do.  sure you're ready to vote:                                        \n",
       "2  Both candidates were asked about how they'd confront racial injustice. Only one had a real answer.                    \n",
       "3  Join me for a 3pm rally - tomorrow at the Mid-America Center in Council Bluffs, Iowa! Tickets:…                       \n",
       "4  This election is too important to sit out. Go to  and make sure you're registered. #NationalVoterRegistrationDay -H   \n",
       "\n",
       "   is_retweet  is_trump  \n",
       "0  False       0         \n",
       "1  False       0         \n",
       "2  False       0         \n",
       "3  False       1         \n",
       "4  False       0         "
      ]
     },
     "execution_count": 14,
     "metadata": {},
     "output_type": "execute_result"
    }
   ],
   "source": [
    "df.head()"
   ]
  },
  {
   "cell_type": "code",
   "execution_count": 15,
   "metadata": {},
   "outputs": [],
   "source": [
    "# This function is going to remove punctuation and make the text lower case"
   ]
  },
  {
   "cell_type": "code",
   "execution_count": 16,
   "metadata": {},
   "outputs": [],
   "source": [
    "def remove_punctuation(text):\n",
    "    lower = text.lower()  #will change text to all lower case\n",
    "    exclude = string.punctuation  #punctuation marks\n",
    "    return \"\".join(ch for ch in lower if ch not in exclude) #this is going to iterate through each character, then rejoin them"
   ]
  },
  {
   "cell_type": "code",
   "execution_count": 17,
   "metadata": {},
   "outputs": [],
   "source": [
    "df['no_punc'] = df['text'].apply(remove_punctuation)"
   ]
  },
  {
   "cell_type": "code",
   "execution_count": 18,
   "metadata": {
    "scrolled": true
   },
   "outputs": [
    {
     "data": {
      "text/html": [
       "<div>\n",
       "<style scoped>\n",
       "    .dataframe tbody tr th:only-of-type {\n",
       "        vertical-align: middle;\n",
       "    }\n",
       "\n",
       "    .dataframe tbody tr th {\n",
       "        vertical-align: top;\n",
       "    }\n",
       "\n",
       "    .dataframe thead th {\n",
       "        text-align: right;\n",
       "    }\n",
       "</style>\n",
       "<table border=\"1\" class=\"dataframe\">\n",
       "  <thead>\n",
       "    <tr style=\"text-align: right;\">\n",
       "      <th></th>\n",
       "      <th>handle</th>\n",
       "      <th>text</th>\n",
       "      <th>is_retweet</th>\n",
       "      <th>is_trump</th>\n",
       "      <th>no_punc</th>\n",
       "    </tr>\n",
       "  </thead>\n",
       "  <tbody>\n",
       "    <tr>\n",
       "      <th>0</th>\n",
       "      <td>HillaryClinton</td>\n",
       "      <td>The question in this election: Who can put the plans into action that will make your life better?</td>\n",
       "      <td>False</td>\n",
       "      <td>0</td>\n",
       "      <td>the question in this election who can put the plans into action that will make your life better</td>\n",
       "    </tr>\n",
       "    <tr>\n",
       "      <th>1</th>\n",
       "      <td>HillaryClinton</td>\n",
       "      <td>If we stand together, there's nothing we can't do.  sure you're ready to vote:</td>\n",
       "      <td>False</td>\n",
       "      <td>0</td>\n",
       "      <td>if we stand together theres nothing we cant do  sure youre ready to vote</td>\n",
       "    </tr>\n",
       "    <tr>\n",
       "      <th>2</th>\n",
       "      <td>HillaryClinton</td>\n",
       "      <td>Both candidates were asked about how they'd confront racial injustice. Only one had a real answer.</td>\n",
       "      <td>False</td>\n",
       "      <td>0</td>\n",
       "      <td>both candidates were asked about how theyd confront racial injustice only one had a real answer</td>\n",
       "    </tr>\n",
       "    <tr>\n",
       "      <th>3</th>\n",
       "      <td>realDonaldTrump</td>\n",
       "      <td>Join me for a 3pm rally - tomorrow at the Mid-America Center in Council Bluffs, Iowa! Tickets:…</td>\n",
       "      <td>False</td>\n",
       "      <td>1</td>\n",
       "      <td>join me for a 3pm rally  tomorrow at the midamerica center in council bluffs iowa tickets…</td>\n",
       "    </tr>\n",
       "    <tr>\n",
       "      <th>4</th>\n",
       "      <td>HillaryClinton</td>\n",
       "      <td>This election is too important to sit out. Go to  and make sure you're registered. #NationalVoterRegistrationDay -H</td>\n",
       "      <td>False</td>\n",
       "      <td>0</td>\n",
       "      <td>this election is too important to sit out go to  and make sure youre registered nationalvoterregistrationday h</td>\n",
       "    </tr>\n",
       "  </tbody>\n",
       "</table>\n",
       "</div>"
      ],
      "text/plain": [
       "            handle  \\\n",
       "0  HillaryClinton    \n",
       "1  HillaryClinton    \n",
       "2  HillaryClinton    \n",
       "3  realDonaldTrump   \n",
       "4  HillaryClinton    \n",
       "\n",
       "                                                                                                                  text  \\\n",
       "0  The question in this election: Who can put the plans into action that will make your life better?                     \n",
       "1  If we stand together, there's nothing we can't do.  sure you're ready to vote:                                        \n",
       "2  Both candidates were asked about how they'd confront racial injustice. Only one had a real answer.                    \n",
       "3  Join me for a 3pm rally - tomorrow at the Mid-America Center in Council Bluffs, Iowa! Tickets:…                       \n",
       "4  This election is too important to sit out. Go to  and make sure you're registered. #NationalVoterRegistrationDay -H   \n",
       "\n",
       "   is_retweet  is_trump  \\\n",
       "0  False       0          \n",
       "1  False       0          \n",
       "2  False       0          \n",
       "3  False       1          \n",
       "4  False       0          \n",
       "\n",
       "                                                                                                          no_punc  \n",
       "0  the question in this election who can put the plans into action that will make your life better                 \n",
       "1  if we stand together theres nothing we cant do  sure youre ready to vote                                        \n",
       "2  both candidates were asked about how theyd confront racial injustice only one had a real answer                 \n",
       "3  join me for a 3pm rally  tomorrow at the midamerica center in council bluffs iowa tickets…                      \n",
       "4  this election is too important to sit out go to  and make sure youre registered nationalvoterregistrationday h  "
      ]
     },
     "execution_count": 18,
     "metadata": {},
     "output_type": "execute_result"
    }
   ],
   "source": [
    "df.head()"
   ]
  },
  {
   "cell_type": "code",
   "execution_count": 19,
   "metadata": {},
   "outputs": [],
   "source": [
    "#Now we're going to take our text down to their root words using Porter Stemmer.\n",
    "\n",
    "# #porter stemmer is going to takes the word down to it's root form. \n",
    "# Stems are created by removing the suffixes or prefixes used with a word.\n",
    "# We can see how this works in an example:\n",
    "\n"
   ]
  },
  {
   "cell_type": "code",
   "execution_count": 20,
   "metadata": {},
   "outputs": [],
   "source": [
    "# stemmer = PorterStemmer() \n",
    "\n",
    "# words = ['snacks', 'snacked, 'eating', 'sustainance']\n",
    "# p = [stemmer.stem(word) for word in words]\n"
   ]
  },
  {
   "cell_type": "code",
   "execution_count": 21,
   "metadata": {},
   "outputs": [],
   "source": [
    "stemmer = PorterStemmer()  #instantiate stemmer\n"
   ]
  },
  {
   "cell_type": "code",
   "execution_count": 22,
   "metadata": {},
   "outputs": [],
   "source": [
    "def split_and_stem(string):\n",
    "    word = \"\"\n",
    "    string = string.split(' ')\n",
    "    for i in string:\n",
    "        word += (stemmer.stem(i) + \" \")\n",
    "    return word"
   ]
  },
  {
   "cell_type": "code",
   "execution_count": 23,
   "metadata": {},
   "outputs": [],
   "source": [
    "df['stem'] = df['no_punc'].apply(split_and_stem)"
   ]
  },
  {
   "cell_type": "code",
   "execution_count": 24,
   "metadata": {
    "scrolled": false
   },
   "outputs": [
    {
     "data": {
      "text/html": [
       "<div>\n",
       "<style scoped>\n",
       "    .dataframe tbody tr th:only-of-type {\n",
       "        vertical-align: middle;\n",
       "    }\n",
       "\n",
       "    .dataframe tbody tr th {\n",
       "        vertical-align: top;\n",
       "    }\n",
       "\n",
       "    .dataframe thead th {\n",
       "        text-align: right;\n",
       "    }\n",
       "</style>\n",
       "<table border=\"1\" class=\"dataframe\">\n",
       "  <thead>\n",
       "    <tr style=\"text-align: right;\">\n",
       "      <th></th>\n",
       "      <th>handle</th>\n",
       "      <th>text</th>\n",
       "      <th>is_retweet</th>\n",
       "      <th>is_trump</th>\n",
       "      <th>no_punc</th>\n",
       "      <th>stem</th>\n",
       "    </tr>\n",
       "  </thead>\n",
       "  <tbody>\n",
       "    <tr>\n",
       "      <th>0</th>\n",
       "      <td>HillaryClinton</td>\n",
       "      <td>The question in this election: Who can put the plans into action that will make your life better?</td>\n",
       "      <td>False</td>\n",
       "      <td>0</td>\n",
       "      <td>the question in this election who can put the plans into action that will make your life better</td>\n",
       "      <td>the question in thi elect who can put the plan into action that will make your life better</td>\n",
       "    </tr>\n",
       "    <tr>\n",
       "      <th>1</th>\n",
       "      <td>HillaryClinton</td>\n",
       "      <td>If we stand together, there's nothing we can't do.  sure you're ready to vote:</td>\n",
       "      <td>False</td>\n",
       "      <td>0</td>\n",
       "      <td>if we stand together theres nothing we cant do  sure youre ready to vote</td>\n",
       "      <td>if we stand togeth there noth we cant do  sure your readi to vote</td>\n",
       "    </tr>\n",
       "    <tr>\n",
       "      <th>2</th>\n",
       "      <td>HillaryClinton</td>\n",
       "      <td>Both candidates were asked about how they'd confront racial injustice. Only one had a real answer.</td>\n",
       "      <td>False</td>\n",
       "      <td>0</td>\n",
       "      <td>both candidates were asked about how theyd confront racial injustice only one had a real answer</td>\n",
       "      <td>both candid were ask about how theyd confront racial injustic onli one had a real answer</td>\n",
       "    </tr>\n",
       "    <tr>\n",
       "      <th>3</th>\n",
       "      <td>realDonaldTrump</td>\n",
       "      <td>Join me for a 3pm rally - tomorrow at the Mid-America Center in Council Bluffs, Iowa! Tickets:…</td>\n",
       "      <td>False</td>\n",
       "      <td>1</td>\n",
       "      <td>join me for a 3pm rally  tomorrow at the midamerica center in council bluffs iowa tickets…</td>\n",
       "      <td>join me for a 3pm ralli  tomorrow at the midamerica center in council bluff iowa tickets…</td>\n",
       "    </tr>\n",
       "    <tr>\n",
       "      <th>4</th>\n",
       "      <td>HillaryClinton</td>\n",
       "      <td>This election is too important to sit out. Go to  and make sure you're registered. #NationalVoterRegistrationDay -H</td>\n",
       "      <td>False</td>\n",
       "      <td>0</td>\n",
       "      <td>this election is too important to sit out go to  and make sure youre registered nationalvoterregistrationday h</td>\n",
       "      <td>thi elect is too import to sit out go to  and make sure your regist nationalvoterregistrationday h</td>\n",
       "    </tr>\n",
       "  </tbody>\n",
       "</table>\n",
       "</div>"
      ],
      "text/plain": [
       "            handle  \\\n",
       "0  HillaryClinton    \n",
       "1  HillaryClinton    \n",
       "2  HillaryClinton    \n",
       "3  realDonaldTrump   \n",
       "4  HillaryClinton    \n",
       "\n",
       "                                                                                                                  text  \\\n",
       "0  The question in this election: Who can put the plans into action that will make your life better?                     \n",
       "1  If we stand together, there's nothing we can't do.  sure you're ready to vote:                                        \n",
       "2  Both candidates were asked about how they'd confront racial injustice. Only one had a real answer.                    \n",
       "3  Join me for a 3pm rally - tomorrow at the Mid-America Center in Council Bluffs, Iowa! Tickets:…                       \n",
       "4  This election is too important to sit out. Go to  and make sure you're registered. #NationalVoterRegistrationDay -H   \n",
       "\n",
       "   is_retweet  is_trump  \\\n",
       "0  False       0          \n",
       "1  False       0          \n",
       "2  False       0          \n",
       "3  False       1          \n",
       "4  False       0          \n",
       "\n",
       "                                                                                                          no_punc  \\\n",
       "0  the question in this election who can put the plans into action that will make your life better                  \n",
       "1  if we stand together theres nothing we cant do  sure youre ready to vote                                         \n",
       "2  both candidates were asked about how theyd confront racial injustice only one had a real answer                  \n",
       "3  join me for a 3pm rally  tomorrow at the midamerica center in council bluffs iowa tickets…                       \n",
       "4  this election is too important to sit out go to  and make sure youre registered nationalvoterregistrationday h   \n",
       "\n",
       "                                                                                                  stem  \n",
       "0  the question in thi elect who can put the plan into action that will make your life better           \n",
       "1  if we stand togeth there noth we cant do  sure your readi to vote                                    \n",
       "2  both candid were ask about how theyd confront racial injustic onli one had a real answer             \n",
       "3  join me for a 3pm ralli  tomorrow at the midamerica center in council bluff iowa tickets…            \n",
       "4  thi elect is too import to sit out go to  and make sure your regist nationalvoterregistrationday h   "
      ]
     },
     "execution_count": 24,
     "metadata": {},
     "output_type": "execute_result"
    }
   ],
   "source": [
    "df.head()"
   ]
  },
  {
   "cell_type": "code",
   "execution_count": 25,
   "metadata": {},
   "outputs": [
    {
     "data": {
      "text/plain": [
       "1    3093\n",
       "0    2629\n",
       "Name: is_trump, dtype: int64"
      ]
     },
     "execution_count": 25,
     "metadata": {},
     "output_type": "execute_result"
    }
   ],
   "source": [
    "df['is_trump'].value_counts()"
   ]
  },
  {
   "cell_type": "code",
   "execution_count": 26,
   "metadata": {},
   "outputs": [
    {
     "data": {
      "text/plain": [
       "0    the question in thi elect who can put the plan into action that will make your life better         \n",
       "1    if we stand togeth there noth we cant do  sure your readi to vote                                  \n",
       "2    both candid were ask about how theyd confront racial injustic onli one had a real answer           \n",
       "3    join me for a 3pm ralli  tomorrow at the midamerica center in council bluff iowa tickets…          \n",
       "4    thi elect is too import to sit out go to  and make sure your regist nationalvoterregistrationday h \n",
       "Name: stem, dtype: object"
      ]
     },
     "execution_count": 26,
     "metadata": {},
     "output_type": "execute_result"
    }
   ],
   "source": [
    "df['stem'].head()"
   ]
  },
  {
   "cell_type": "markdown",
   "metadata": {},
   "source": [
    "# MODELING"
   ]
  },
  {
   "cell_type": "code",
   "execution_count": 256,
   "metadata": {},
   "outputs": [],
   "source": [
    "X = df['stem']\n",
    "y = df['is_trump']"
   ]
  },
  {
   "cell_type": "code",
   "execution_count": 263,
   "metadata": {},
   "outputs": [],
   "source": [
    "X_train, X_test, y_train, y_test = train_test_split(X, y, test_size = 0.2, random_state = 42)"
   ]
  },
  {
   "cell_type": "code",
   "execution_count": 264,
   "metadata": {},
   "outputs": [],
   "source": [
    "cvec = CountVectorizer(stop_words = 'english')"
   ]
  },
  {
   "cell_type": "code",
   "execution_count": 265,
   "metadata": {},
   "outputs": [],
   "source": [
    "X_train  = pd.DataFrame(cvec.fit_transform(X_train).todense(),\n",
    "             columns=cvec.get_feature_names())"
   ]
  },
  {
   "cell_type": "code",
   "execution_count": 266,
   "metadata": {},
   "outputs": [
    {
     "data": {
      "text/plain": [
       "6610"
      ]
     },
     "execution_count": 266,
     "metadata": {},
     "output_type": "execute_result"
    }
   ],
   "source": [
    "len(df_train.columns)"
   ]
  },
  {
   "cell_type": "code",
   "execution_count": 267,
   "metadata": {},
   "outputs": [],
   "source": [
    "X_test = pd.DataFrame(cvec.transform(X_test).todense(),\n",
    "             columns=cvec.get_feature_names())"
   ]
  },
  {
   "cell_type": "code",
   "execution_count": 268,
   "metadata": {},
   "outputs": [],
   "source": [
    "lr = LogisticRegression()"
   ]
  },
  {
   "cell_type": "code",
   "execution_count": 269,
   "metadata": {
    "scrolled": true
   },
   "outputs": [
    {
     "name": "stderr",
     "output_type": "stream",
     "text": [
      "/Users/heatherrobbins/anaconda3/lib/python3.7/site-packages/sklearn/linear_model/logistic.py:433: FutureWarning: Default solver will be changed to 'lbfgs' in 0.22. Specify a solver to silence this warning.\n",
      "  FutureWarning)\n"
     ]
    },
    {
     "data": {
      "text/plain": [
       "LogisticRegression(C=1.0, class_weight=None, dual=False, fit_intercept=True,\n",
       "          intercept_scaling=1, max_iter=100, multi_class='warn',\n",
       "          n_jobs=None, penalty='l2', random_state=None, solver='warn',\n",
       "          tol=0.0001, verbose=0, warm_start=False)"
      ]
     },
     "execution_count": 269,
     "metadata": {},
     "output_type": "execute_result"
    }
   ],
   "source": [
    "lr.fit(X_train, y_train)"
   ]
  },
  {
   "cell_type": "code",
   "execution_count": 270,
   "metadata": {
    "scrolled": true
   },
   "outputs": [
    {
     "data": {
      "text/plain": [
       "0.9886388464059428"
      ]
     },
     "execution_count": 270,
     "metadata": {},
     "output_type": "execute_result"
    }
   ],
   "source": [
    "lr.score(X_train, y_train)"
   ]
  },
  {
   "cell_type": "code",
   "execution_count": 271,
   "metadata": {
    "scrolled": true
   },
   "outputs": [
    {
     "data": {
      "text/plain": [
       "0.914410480349345"
      ]
     },
     "execution_count": 271,
     "metadata": {},
     "output_type": "execute_result"
    }
   ],
   "source": [
    "lr.score(X_test, y_test)"
   ]
  },
  {
   "cell_type": "code",
   "execution_count": 276,
   "metadata": {},
   "outputs": [],
   "source": [
    "predictions = lr.predict(X_test)"
   ]
  },
  {
   "cell_type": "code",
   "execution_count": 323,
   "metadata": {},
   "outputs": [],
   "source": [
    "pred_proba = lr.predict_proba(X_test)[:,1]"
   ]
  },
  {
   "cell_type": "code",
   "execution_count": 324,
   "metadata": {},
   "outputs": [],
   "source": [
    "def metrics(y_test, y_predict, pred_proba):\n",
    "    print('Accuracy score %s ' % accuracy_score(y_test, y_predict), '\\n')\n",
    "    print('----------------------------------------------------------------')\n",
    "    print(pd.DataFrame(confusion_matrix(y_test, y_predict), \n",
    "                            index=['Actually_Hillary', 'Actual_Trump'], \n",
    "                            columns=['Predicted_Hillary', 'Predicted_Trump']), '\\n')\n",
    "    print('-----------------------------------------------------------------')\n",
    "    print(classification_report(y_test, y_predict))\n",
    "    print('-----------------------------------------------------------------')\n",
    "    print('ROC_AUC SCORE %s ' %roc_auc_score(y_test, pred_proba))"
   ]
  },
  {
   "cell_type": "code",
   "execution_count": 325,
   "metadata": {},
   "outputs": [
    {
     "name": "stdout",
     "output_type": "stream",
     "text": [
      "Accuracy score 0.914410480349345  \n",
      "\n",
      "----------------------------------------------------------------\n",
      "                  Predicted_Hillary  Predicted_Trump\n",
      "Actually_Hillary  480                42             \n",
      "Actual_Trump      56                 567             \n",
      "\n",
      "-----------------------------------------------------------------\n",
      "              precision    recall  f1-score   support\n",
      "\n",
      "           0       0.90      0.92      0.91       522\n",
      "           1       0.93      0.91      0.92       623\n",
      "\n",
      "   micro avg       0.91      0.91      0.91      1145\n",
      "   macro avg       0.91      0.91      0.91      1145\n",
      "weighted avg       0.91      0.91      0.91      1145\n",
      "\n",
      "-----------------------------------------------------------------\n",
      "ROC_AUC SCORE 0.9750588857524154 \n"
     ]
    }
   ],
   "source": [
    "metrics(y_test, predictions, pred_proba)"
   ]
  },
  {
   "cell_type": "code",
   "execution_count": 326,
   "metadata": {},
   "outputs": [],
   "source": [
    "FPR = dict()\n",
    "TPR = dict()\n",
    "ROC_AUC = dict()"
   ]
  },
  {
   "cell_type": "code",
   "execution_count": 327,
   "metadata": {},
   "outputs": [
    {
     "data": {
      "text/plain": [
       "(array([0.        , 0.        , 0.        , 0.        , 0.        ,\n",
       "        0.        , 0.        , 0.        , 0.        , 0.00191571,\n",
       "        0.00191571, 0.00383142, 0.00383142, 0.00574713, 0.00574713,\n",
       "        0.00766284, 0.00766284, 0.00957854, 0.00957854, 0.00957854,\n",
       "        0.00957854, 0.01149425, 0.01149425, 0.01340996, 0.01340996,\n",
       "        0.01340996, 0.01340996, 0.01532567, 0.01532567, 0.01724138,\n",
       "        0.01724138, 0.01915709, 0.01915709, 0.0210728 , 0.0210728 ,\n",
       "        0.02298851, 0.02298851, 0.02490421, 0.02490421, 0.02681992,\n",
       "        0.02681992, 0.02873563, 0.02873563, 0.03639847, 0.03639847,\n",
       "        0.03831418, 0.03831418, 0.04022989, 0.04022989, 0.0440613 ,\n",
       "        0.0440613 , 0.04597701, 0.04597701, 0.04789272, 0.04789272,\n",
       "        0.05172414, 0.05172414, 0.05363985, 0.05363985, 0.05747126,\n",
       "        0.05747126, 0.05938697, 0.05938697, 0.06321839, 0.06321839,\n",
       "        0.07088123, 0.07088123, 0.07471264, 0.07471264, 0.08045977,\n",
       "        0.08045977, 0.08237548, 0.08237548, 0.0862069 , 0.0862069 ,\n",
       "        0.08812261, 0.08812261, 0.09578544, 0.09578544, 0.09770115,\n",
       "        0.09770115, 0.10153257, 0.10153257, 0.11302682, 0.11302682,\n",
       "        0.11494253, 0.11494253, 0.11685824, 0.11685824, 0.11877395,\n",
       "        0.11877395, 0.12835249, 0.12835249, 0.13218391, 0.13218391,\n",
       "        0.13409962, 0.13409962, 0.14559387, 0.14559387, 0.15517241,\n",
       "        0.15517241, 0.15900383, 0.15900383, 0.16091954, 0.16091954,\n",
       "        0.16283525, 0.16283525, 0.16858238, 0.16858238, 0.17816092,\n",
       "        0.17816092, 0.18390805, 0.18390805, 0.19348659, 0.19348659,\n",
       "        0.1954023 , 0.1954023 , 0.2183908 , 0.2183908 , 0.22030651,\n",
       "        0.22030651, 0.22796935, 0.22796935, 0.23180077, 0.23180077,\n",
       "        0.24137931, 0.24137931, 0.24329502, 0.24329502, 0.25478927,\n",
       "        0.25478927, 0.26436782, 0.26436782, 0.27777778, 0.27777778,\n",
       "        0.28735632, 0.28735632, 0.29118774, 0.29118774, 0.29693487,\n",
       "        0.29693487, 0.3256705 , 0.3256705 , 0.54022989, 0.54022989,\n",
       "        0.56896552, 0.56896552, 0.60153257, 0.60153257, 0.81800766,\n",
       "        0.81800766, 0.87356322, 0.87356322, 1.        ]),\n",
       " array([0.        , 0.00160514, 0.23756019, 0.2423756 , 0.40128411,\n",
       "        0.40449438, 0.52006421, 0.52327448, 0.63402889, 0.63402889,\n",
       "        0.64526485, 0.64526485, 0.66131621, 0.66131621, 0.69983949,\n",
       "        0.69983949, 0.73836276, 0.73836276, 0.7399679 , 0.74959872,\n",
       "        0.76886035, 0.76886035, 0.78170144, 0.78170144, 0.79614767,\n",
       "        0.79935795, 0.80417335, 0.80417335, 0.80898876, 0.80898876,\n",
       "        0.81219904, 0.81219904, 0.81540931, 0.81540931, 0.81861958,\n",
       "        0.81861958, 0.84751204, 0.84751204, 0.85553772, 0.85553772,\n",
       "        0.85874799, 0.85874799, 0.86837881, 0.86837881, 0.87158909,\n",
       "        0.87158909, 0.87319422, 0.87319422, 0.87640449, 0.87640449,\n",
       "        0.88282504, 0.88282504, 0.88443018, 0.88443018, 0.88924559,\n",
       "        0.88924559, 0.89245586, 0.89245586, 0.89566613, 0.89566613,\n",
       "        0.89727127, 0.89727127, 0.90048154, 0.90048154, 0.90208668,\n",
       "        0.90208668, 0.90369181, 0.90369181, 0.91011236, 0.91011236,\n",
       "        0.9117175 , 0.9117175 , 0.91653291, 0.91653291, 0.91813804,\n",
       "        0.91813804, 0.91974318, 0.91974318, 0.92295345, 0.92295345,\n",
       "        0.92616372, 0.92776886, 0.929374  , 0.929374  , 0.93097913,\n",
       "        0.93097913, 0.93418941, 0.93418941, 0.93579454, 0.93579454,\n",
       "        0.93739968, 0.93739968, 0.93900482, 0.93900482, 0.94060995,\n",
       "        0.94060995, 0.94382022, 0.94382022, 0.94542536, 0.94542536,\n",
       "        0.9470305 , 0.9470305 , 0.94863563, 0.94863563, 0.95024077,\n",
       "        0.95024077, 0.95345104, 0.95345104, 0.95505618, 0.95505618,\n",
       "        0.95666132, 0.95666132, 0.95826645, 0.95826645, 0.95987159,\n",
       "        0.95987159, 0.96147673, 0.96147673, 0.96308186, 0.96308186,\n",
       "        0.964687  , 0.964687  , 0.96629213, 0.96629213, 0.96789727,\n",
       "        0.96789727, 0.97271268, 0.97271268, 0.97431782, 0.97431782,\n",
       "        0.97913323, 0.97913323, 0.9823435 , 0.9823435 , 0.98394864,\n",
       "        0.98394864, 0.98555377, 0.98555377, 0.98715891, 0.98715891,\n",
       "        0.99036918, 0.99036918, 0.99197432, 0.99197432, 0.99357945,\n",
       "        0.99357945, 0.99518459, 0.99518459, 0.99678973, 0.99678973,\n",
       "        0.99839486, 0.99839486, 1.        , 1.        ]),\n",
       " array([1.99999016e+00, 9.99990163e-01, 9.96722668e-01, 9.96536820e-01,\n",
       "        9.85249207e-01, 9.85108427e-01, 9.70412602e-01, 9.69841502e-01,\n",
       "        9.23940744e-01, 9.22966602e-01, 9.17977571e-01, 9.17731596e-01,\n",
       "        9.09761789e-01, 9.08625929e-01, 8.89952601e-01, 8.85938292e-01,\n",
       "        8.56508600e-01, 8.56290795e-01, 8.55223176e-01, 8.54589385e-01,\n",
       "        8.37347467e-01, 8.32376177e-01, 8.15374219e-01, 8.12973717e-01,\n",
       "        7.94288346e-01, 7.90410638e-01, 7.83579867e-01, 7.83219587e-01,\n",
       "        7.70448985e-01, 7.70259498e-01, 7.63838262e-01, 7.63764867e-01,\n",
       "        7.58744704e-01, 7.58540339e-01, 7.51762411e-01, 7.46061026e-01,\n",
       "        7.10149561e-01, 7.06819969e-01, 7.01868241e-01, 6.99059779e-01,\n",
       "        6.94151959e-01, 6.91197409e-01, 6.73236291e-01, 6.54867947e-01,\n",
       "        6.35545158e-01, 6.30176942e-01, 6.29034406e-01, 6.28165360e-01,\n",
       "        6.22636031e-01, 6.20822818e-01, 6.14362736e-01, 6.13804831e-01,\n",
       "        6.12103303e-01, 6.09909636e-01, 6.05497144e-01, 6.01155525e-01,\n",
       "        5.97232103e-01, 5.89676453e-01, 5.87226383e-01, 5.84997179e-01,\n",
       "        5.84287156e-01, 5.83092968e-01, 5.80421679e-01, 5.70395280e-01,\n",
       "        5.65975225e-01, 5.39017654e-01, 5.33246170e-01, 5.29168292e-01,\n",
       "        5.14853211e-01, 5.09364166e-01, 4.99299639e-01, 4.96404291e-01,\n",
       "        4.82400407e-01, 4.79640703e-01, 4.74582339e-01, 4.72280825e-01,\n",
       "        4.71922089e-01, 4.65927643e-01, 4.58497458e-01, 4.54996168e-01,\n",
       "        4.46595064e-01, 4.44524128e-01, 4.43906398e-01, 4.32978065e-01,\n",
       "        4.30772857e-01, 4.25960898e-01, 4.20626501e-01, 4.20212203e-01,\n",
       "        4.12442997e-01, 4.11131669e-01, 4.05804496e-01, 3.89875612e-01,\n",
       "        3.81894622e-01, 3.76882811e-01, 3.76612633e-01, 3.75721707e-01,\n",
       "        3.69261929e-01, 3.45596884e-01, 3.44663811e-01, 3.33276734e-01,\n",
       "        3.31843597e-01, 3.17815640e-01, 3.13920883e-01, 3.12041939e-01,\n",
       "        3.08662207e-01, 3.08075589e-01, 3.02928102e-01, 2.95493618e-01,\n",
       "        2.95018147e-01, 2.85244599e-01, 2.84996962e-01, 2.76693111e-01,\n",
       "        2.72645477e-01, 2.67214920e-01, 2.67062165e-01, 2.64873231e-01,\n",
       "        2.63300912e-01, 2.44198506e-01, 2.38603558e-01, 2.36972948e-01,\n",
       "        2.36945885e-01, 2.22418842e-01, 2.21811082e-01, 2.18587315e-01,\n",
       "        2.17157841e-01, 2.05434299e-01, 1.97291458e-01, 1.95914371e-01,\n",
       "        1.92762696e-01, 1.90207345e-01, 1.85114562e-01, 1.81283523e-01,\n",
       "        1.79925626e-01, 1.67828411e-01, 1.66548343e-01, 1.60734153e-01,\n",
       "        1.60622702e-01, 1.58154471e-01, 1.52655847e-01, 1.50524500e-01,\n",
       "        1.48622355e-01, 1.34487541e-01, 1.33739161e-01, 4.77532316e-02,\n",
       "        4.77424460e-02, 4.36175493e-02, 4.28888608e-02, 3.43019973e-02,\n",
       "        3.35862512e-02, 1.05166420e-02, 9.89003110e-03, 5.03451782e-03,\n",
       "        4.73854765e-03, 1.93234498e-04]))"
      ]
     },
     "execution_count": 327,
     "metadata": {},
     "output_type": "execute_result"
    }
   ],
   "source": [
    "roc_curve(y_test, pred_proba)"
   ]
  },
  {
   "cell_type": "code",
   "execution_count": 328,
   "metadata": {},
   "outputs": [],
   "source": [
    "FPR[1], TPR[1], _ = roc_curve(y_test, pred_proba)\n",
    "ROC_AUC[1] = auc(FPR[1], TPR[1])"
   ]
  },
  {
   "cell_type": "code",
   "execution_count": 329,
   "metadata": {
    "scrolled": true
   },
   "outputs": [
    {
     "data": {
      "image/png": "[encoded data removed]",
      "text/plain": [
       "<Figure size 504x360 with 1 Axes>"
      ]
     },
     "metadata": {
      "needs_background": "light"
     },
     "output_type": "display_data"
    }
   ],
   "source": [
    "plt.figure(figsize=[7,5])\n",
    "plt.plot(FPR[1], TPR[1], label='ROC curve (area = %0.3f)' % ROC_AUC[1], linewidth=3)\n",
    "plt.plot([0, 1], [0, 1], 'k--', linewidth=3)\n",
    "plt.xlim([0.0, 1])\n",
    "plt.ylim([0.0, 1])\n",
    "plt.xlabel('False Positive Rate', fontsize=18)\n",
    "plt.ylabel('True Positive Rate', fontsize=18)\n",
    "plt.title('Logistic Regression ROC Curve', fontsize=18)\n",
    "plt.legend(loc=\"lower right\")\n",
    "plt.show()"
   ]
  },
  {
   "cell_type": "code",
   "execution_count": 391,
   "metadata": {},
   "outputs": [],
   "source": [
    "# Let's say we wanted to shift the probability threshold..."
   ]
  },
  {
   "cell_type": "code",
   "execution_count": 402,
   "metadata": {},
   "outputs": [
    {
     "data": {
      "text/html": [
       "<div>\n",
       "<style scoped>\n",
       "    .dataframe tbody tr th:only-of-type {\n",
       "        vertical-align: middle;\n",
       "    }\n",
       "\n",
       "    .dataframe tbody tr th {\n",
       "        vertical-align: top;\n",
       "    }\n",
       "\n",
       "    .dataframe thead th {\n",
       "        text-align: right;\n",
       "    }\n",
       "</style>\n",
       "<table border=\"1\" class=\"dataframe\">\n",
       "  <thead>\n",
       "    <tr style=\"text-align: right;\">\n",
       "      <th></th>\n",
       "      <th>class_0_prediction(Hillary)</th>\n",
       "      <th>class_1_prediction(Trump)</th>\n",
       "    </tr>\n",
       "  </thead>\n",
       "  <tbody>\n",
       "    <tr>\n",
       "      <th>0</th>\n",
       "      <td>0.951202</td>\n",
       "      <td>0.048798</td>\n",
       "    </tr>\n",
       "    <tr>\n",
       "      <th>1</th>\n",
       "      <td>0.931777</td>\n",
       "      <td>0.068223</td>\n",
       "    </tr>\n",
       "    <tr>\n",
       "      <th>2</th>\n",
       "      <td>0.287943</td>\n",
       "      <td>0.712057</td>\n",
       "    </tr>\n",
       "    <tr>\n",
       "      <th>3</th>\n",
       "      <td>0.983109</td>\n",
       "      <td>0.016891</td>\n",
       "    </tr>\n",
       "    <tr>\n",
       "      <th>4</th>\n",
       "      <td>0.168874</td>\n",
       "      <td>0.831126</td>\n",
       "    </tr>\n",
       "  </tbody>\n",
       "</table>\n",
       "</div>"
      ],
      "text/plain": [
       "   class_0_prediction(Hillary)  class_1_prediction(Trump)\n",
       "0  0.951202                     0.048798                 \n",
       "1  0.931777                     0.068223                 \n",
       "2  0.287943                     0.712057                 \n",
       "3  0.983109                     0.016891                 \n",
       "4  0.168874                     0.831126                 "
      ]
     },
     "execution_count": 402,
     "metadata": {},
     "output_type": "execute_result"
    }
   ],
   "source": [
    "lr_probs = pd.DataFrame(lr.predict_proba(X_test), columns=['class_0_prediction(Hillary)','class_1_prediction(Trump)'])\n",
    "lr_probs.head()"
   ]
  },
  {
   "cell_type": "code",
   "execution_count": 393,
   "metadata": {},
   "outputs": [],
   "source": [
    "logreg_preds['pred_class_thresh10'] = [1 if x >= 0.10 else 0 for x in logreg_preds.class_1_prediction.values]\n",
    "# print(knn_predictions.iloc[0:10])"
   ]
  },
  {
   "cell_type": "code",
   "execution_count": 403,
   "metadata": {},
   "outputs": [],
   "source": [
    "y_preds_shifted = logreg_preds['pred_class_thresh10']"
   ]
  },
  {
   "cell_type": "code",
   "execution_count": 398,
   "metadata": {},
   "outputs": [
    {
     "data": {
      "text/plain": [
       "0       0\n",
       "1       0\n",
       "2       1\n",
       "3       0\n",
       "4       1\n",
       "5       1\n",
       "6       1\n",
       "7       0\n",
       "8       1\n",
       "9       1\n",
       "10      0\n",
       "11      1\n",
       "12      1\n",
       "13      0\n",
       "14      1\n",
       "15      1\n",
       "16      0\n",
       "17      0\n",
       "18      1\n",
       "19      1\n",
       "20      1\n",
       "21      1\n",
       "22      1\n",
       "23      1\n",
       "24      0\n",
       "25      0\n",
       "26      1\n",
       "27      1\n",
       "28      1\n",
       "29      1\n",
       "       ..\n",
       "1115    0\n",
       "1116    1\n",
       "1117    1\n",
       "1118    1\n",
       "1119    1\n",
       "1120    1\n",
       "1121    0\n",
       "1122    0\n",
       "1123    1\n",
       "1124    1\n",
       "1125    1\n",
       "1126    1\n",
       "1127    1\n",
       "1128    1\n",
       "1129    1\n",
       "1130    1\n",
       "1131    0\n",
       "1132    0\n",
       "1133    1\n",
       "1134    1\n",
       "1135    1\n",
       "1136    0\n",
       "1137    1\n",
       "1138    1\n",
       "1139    1\n",
       "1140    1\n",
       "1141    0\n",
       "1142    1\n",
       "1143    1\n",
       "1144    1\n",
       "Name: pred_class_thresh10, Length: 1145, dtype: int64"
      ]
     },
     "execution_count": 398,
     "metadata": {},
     "output_type": "execute_result"
    }
   ],
   "source": [
    "y_preds_shifted"
   ]
  },
  {
   "cell_type": "code",
   "execution_count": null,
   "metadata": {},
   "outputs": [],
   "source": []
  }
 ],
 "metadata": {
  "kernelspec": {
   "display_name": "Python 3",
   "language": "python",
   "name": "python3"
  },
  "language_info": {
   "codemirror_mode": {
    "name": "ipython",
    "version": 3
   },
   "file_extension": ".py",
   "mimetype": "text/x-python",
   "name": "python",
   "nbconvert_exporter": "python",
   "pygments_lexer": "ipython3",
   "version": "3.7.0"
  }
 },
 "nbformat": 4,
 "nbformat_minor": 2
}
